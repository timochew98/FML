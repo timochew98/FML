{
 "cells": [
  {
   "cell_type": "code",
   "execution_count": 1,
   "metadata": {},
   "outputs": [],
   "source": [
    "import numpy as np\n",
    "from matplotlib import pyplot as plt\n",
    "from random import choices"
   ]
  },
  {
   "cell_type": "markdown",
   "metadata": {},
   "source": [
    "# 1.1"
   ]
  },
  {
   "cell_type": "code",
   "execution_count": 2,
   "metadata": {},
   "outputs": [],
   "source": [
    "def create_data(N):\n",
    "    x = np.array([])\n",
    "    y = np.array([])\n",
    "    population = [0,1]\n",
    "    for i in range(N):\n",
    "        a = np.random.uniform()\n",
    "        weights = [1-a, a] \n",
    "        x = np.append(x, a)\n",
    "        y = np.append(y,choices(population, weights))\n",
    "    return x,y\n",
    "    \n",
    "    "
   ]
  },
  {
   "cell_type": "code",
   "execution_count": 19,
   "metadata": {},
   "outputs": [
    {
     "data": {
      "image/png": "[encoded data removed]",
      "text/plain": [
       "<Figure size 432x288 with 1 Axes>"
      ]
     },
     "metadata": {
      "needs_background": "light"
     },
     "output_type": "display_data"
    }
   ],
   "source": [
    "x,y = create_data(1000)\n",
    "plt.hist2d(x,y, bins = [20,2])\n",
    "plt.show()"
   ]
  },
  {
   "cell_type": "markdown",
   "metadata": {},
   "source": [
    "# 1.2"
   ]
  },
  {
   "cell_type": "code",
   "execution_count": 4,
   "metadata": {},
   "outputs": [],
   "source": [
    "def threshold_classifier(N, xt):\n",
    "    x,Y_theo = create_data(N)\n",
    "    Y_exp = np.array([])\n",
    "    for i in range(len(x)):\n",
    "        if x[i]<xt:\n",
    "            Y_exp = np.append(Y_exp, 0)\n",
    "        else:\n",
    "            Y_exp = np.append(Y_exp, 1)\n",
    "    correct = 0 \n",
    "    for k in range(len(Y_exp)):\n",
    "        if Y_exp[k] == Y_theo[k]:\n",
    "            correct = correct + 1\n",
    "\n",
    "    error = (len(Y_exp)- correct)/len(Y_exp)\n",
    "    return error"
   ]
  },
  {
   "cell_type": "code",
   "execution_count": 5,
   "metadata": {},
   "outputs": [],
   "source": [
    "def error_threshold(xt,N):\n",
    "    error_array = np.array([])\n",
    "    for i in range(10):\n",
    "        error_array = np.append(error_array,threshold_classifier(N, xt))\n",
    "    print(\"mean(N = {}, xt= {}) = \".format(N,xt) + str(np.mean(error_array)))\n",
    "    print(\"standard deviation(N = {}, xt= {}) = \".format(N,xt)+ str(np.std(error_array)))\n",
    "    "
   ]
  },
  {
   "cell_type": "code",
   "execution_count": 14,
   "metadata": {},
   "outputs": [
    {
     "name": "stdout",
     "output_type": "stream",
     "text": [
      "Threshold classifier: \n",
      "\n",
      "xt = 0.2: \n",
      "\n",
      "mean(N = 10, xt= 0.2) = 0.3\n",
      "standard deviation(N = 10, xt= 0.2) = 0.11832159566199232\n",
      "\n",
      "mean(N = 100, xt= 0.2) = 0.352\n",
      "standard deviation(N = 100, xt= 0.2) = 0.05230678732248808\n",
      "\n",
      "mean(N = 1000, xt= 0.2) = 0.3367\n",
      "standard deviation(N = 1000, xt= 0.2) = 0.013528118864054962\n",
      "\n",
      "mean(N = 10000, xt= 0.2) = 0.33908000000000005\n",
      "standard deviation(N = 10000, xt= 0.2) = 0.004207326942370887\n",
      "\n",
      "xt = 0.5: \n",
      "\n",
      "mean(N = 10, xt= 0.5) = 0.17\n",
      "standard deviation(N = 10, xt= 0.5) = 0.1004987562112089\n",
      "\n",
      "mean(N = 100, xt= 0.5) = 0.261\n",
      "standard deviation(N = 100, xt= 0.5) = 0.052048054718692414\n",
      "\n",
      "mean(N = 1000, xt= 0.5) = 0.2455\n",
      "standard deviation(N = 1000, xt= 0.5) = 0.010042410069301094\n",
      "\n",
      "mean(N = 10000, xt= 0.5) = 0.24798\n",
      "standard deviation(N = 10000, xt= 0.5) = 0.0045678879145618235\n",
      "\n",
      "xt = 0.6: \n",
      "\n",
      "mean(N = 10, xt= 0.6) = 0.2900000000000001\n",
      "standard deviation(N = 10, xt= 0.6) = 0.11357816691600547\n",
      "\n",
      "mean(N = 100, xt= 0.6) = 0.267\n",
      "standard deviation(N = 100, xt= 0.6) = 0.042906875905849864\n",
      "\n",
      "mean(N = 1000, xt= 0.6) = 0.24889999999999998\n",
      "standard deviation(N = 1000, xt= 0.6) = 0.014272000560538109\n",
      "\n",
      "mean(N = 10000, xt= 0.6) = 0.25879\n",
      "standard deviation(N = 10000, xt= 0.6) = 0.003694441771093435\n",
      "\n"
     ]
    }
   ],
   "source": [
    "print(\"Threshold classifier: \\n\")\n",
    "N = 10\n",
    "\n",
    "xt = 0.2\n",
    "print(\"xt = {}: \\n\".format(xt))\n",
    "for i in range(4):\n",
    "    error_threshold(xt,N)\n",
    "    N = 10*N\n",
    "    print(\"\")\n",
    "\n",
    "N = 10\n",
    "xt = 0.5\n",
    "print(\"xt = {}: \\n\".format(xt))\n",
    "for i in range(4):\n",
    "    error_threshold(xt,N)\n",
    "    N = 10*N\n",
    "    print(\"\")\n",
    "    \n",
    "N = 10\n",
    "xt = 0.6\n",
    "print(\"xt = {}: \\n\".format(xt))\n",
    "for i in range(4):\n",
    "    error_threshold(xt,N)\n",
    "    N = 10*N\n",
    "    print(\"\")"
   ]
  },
  {
   "cell_type": "markdown",
   "metadata": {},
   "source": [
    "# 1.3"
   ]
  },
  {
   "cell_type": "code",
   "execution_count": 8,
   "metadata": {},
   "outputs": [],
   "source": [
    "def baseline_classifier_guessing(N):\n",
    "    x,Y_theo = create_data(N)\n",
    "    Y_exp = np.array([])\n",
    "    for i in range(len(x)):\n",
    "        Y_exp = np.append(Y_exp, np.random.randint(low =0, high= 2))\n",
    "    correct = 0 \n",
    "    for k in range(len(Y_exp)):\n",
    "        if Y_exp[k] == Y_theo[k]:\n",
    "            correct = correct + 1\n",
    "\n",
    "    error = (len(Y_exp)- correct)/len(Y_exp)\n",
    "    return error\n",
    "def error_guessing(N):\n",
    "    error_array = np.array([])\n",
    "    for i in range(10):\n",
    "        error_array = np.append(error_array,baseline_classifier_guessing(N))\n",
    "    print(\"mean(N = {}) = \".format(N) + str(np.mean(error_array)))\n",
    "    print(\"standard deviation(N = {}) = \".format(N)+ str(np.std(error_array)))\n",
    "    "
   ]
  },
  {
   "cell_type": "code",
   "execution_count": 9,
   "metadata": {},
   "outputs": [
    {
     "name": "stdout",
     "output_type": "stream",
     "text": [
      "mean(N = 10) = 0.54\n",
      "standard deviation(N = 10) = 0.14282856857085702\n",
      "\n",
      "mean(N = 100) = 0.515\n",
      "standard deviation(N = 100) = 0.0415331193145904\n",
      "\n",
      "mean(N = 1000) = 0.5067999999999999\n",
      "standard deviation(N = 1000) = 0.009568698971124558\n",
      "\n",
      "mean(N = 10000) = 0.49772999999999995\n",
      "standard deviation(N = 10000) = 0.004352711798407974\n",
      "\n"
     ]
    }
   ],
   "source": [
    "print(\"baseline classifier guessing \\n\")\n",
    "N = 10\n",
    "for i in range(4):\n",
    "    error_guessing(N)\n",
    "    N = 10*N\n",
    "    print(\"\")"
   ]
  },
  {
   "cell_type": "code",
   "execution_count": 10,
   "metadata": {},
   "outputs": [],
   "source": [
    "def baseline_classifier_constant(N):\n",
    "    x,Y_theo = create_data(N)\n",
    "    Y_exp = np.array([])\n",
    "    for i in range(len(x)):\n",
    "        Y_exp = np.append(Y_exp, 1)\n",
    "    correct = 0 \n",
    "    for k in range(len(Y_exp)):\n",
    "        if Y_exp[k] == Y_theo[k]:\n",
    "            correct = correct + 1\n",
    "\n",
    "    error = (len(Y_exp)- correct)/len(Y_exp)\n",
    "    return error\n",
    "def error_constant(N):\n",
    "    error_array = np.array([])\n",
    "    for i in range(10):\n",
    "        error_array = np.append(error_array,baseline_classifier_constant(N))\n",
    "    print(\"mean(N = {}) = \".format(N) + str(np.mean(error_array)))\n",
    "    print(\"standard deviation(N = {}) = \".format(N)+ str(np.std(error_array)))"
   ]
  },
  {
   "cell_type": "code",
   "execution_count": 11,
   "metadata": {},
   "outputs": [
    {
     "name": "stdout",
     "output_type": "stream",
     "text": [
      "mean(N = 10) = 0.54\n",
      "standard deviation(N = 10) = 0.16852299546352717\n",
      "\n",
      "mean(N = 100) = 0.506\n",
      "standard deviation(N = 100) = 0.06666333324999582\n",
      "\n",
      "mean(N = 1000) = 0.5043\n",
      "standard deviation(N = 1000) = 0.016012807374099033\n",
      "\n",
      "mean(N = 10000) = 0.49928\n",
      "standard deviation(N = 10000) = 0.00573215491765532\n",
      "\n"
     ]
    }
   ],
   "source": [
    "print(\"baseline classifier constant \\n\")\n",
    "\n",
    "N = 10\n",
    "for i in range(4):\n",
    "    error_constant(N)\n",
    "    N = 10*N\n",
    "    print(\"\")"
   ]
  },
  {
   "cell_type": "markdown",
   "metadata": {},
   "source": [
    "# 1.4"
   ]
  },
  {
   "cell_type": "code",
   "execution_count": 12,
   "metadata": {},
   "outputs": [],
   "source": [
    "x1 = 0.25\n",
    "x2 = 0.75\n",
    "\n",
    "def nearest_neighbor_classication(N,x1,x2):\n",
    "    x,Y_theo = create_data(N)\n",
    "    Y_exp = np.array([])\n",
    "    for i in range(len(x)):\n",
    "        if np.abs(x[i]-x1) < np.abs(x[i]-x2):\n",
    "            Y_exp = np.append(Y_exp, 0)\n",
    "        else:\n",
    "            Y_exp = np.append(Y_exp, 1)\n",
    "    correct = 0 \n",
    "    for k in range(len(Y_exp)):\n",
    "        if Y_exp[k] == Y_theo[k]:\n",
    "            correct = correct + 1\n",
    "\n",
    "    error = (len(Y_exp)- correct)/len(Y_exp)\n",
    "    return error\n",
    "def error_neighbor(N,x1,x2):\n",
    "    error_array = np.array([])\n",
    "    for i in range(10):\n",
    "        error_array = np.append(error_array,nearest_neighbor_classication(N,x1,x2))\n",
    "    print(\"mean(N = {}, x1= {} , x2= {}) = \".format(N,x1,x2) + str(np.mean(error_array)))\n",
    "    print(\"standard deviation(N = {}, x1= {} , x2= {}) = \".format(N,x1,x2)+ str(np.std(error_array)))"
   ]
  },
  {
   "cell_type": "code",
   "execution_count": 13,
   "metadata": {},
   "outputs": [
    {
     "name": "stdout",
     "output_type": "stream",
     "text": [
      "mean(N = 10, x1= 0.25 , x2= 0.75) = 0.2\n",
      "standard deviation(N = 10, x1= 0.25 , x2= 0.75) = 0.1341640786499874\n",
      "\n",
      "mean(N = 100, x1= 0.25 , x2= 0.75) = 0.26800000000000007\n",
      "standard deviation(N = 100, x1= 0.25 , x2= 0.75) = 0.03458323293158117\n",
      "\n",
      "mean(N = 1000, x1= 0.25 , x2= 0.75) = 0.2537\n",
      "standard deviation(N = 1000, x1= 0.25 , x2= 0.75) = 0.013579764357307535\n",
      "\n",
      "mean(N = 10000, x1= 0.25 , x2= 0.75) = 0.24908000000000005\n",
      "standard deviation(N = 10000, x1= 0.25 , x2= 0.75) = 0.004064431079499323\n",
      "\n"
     ]
    }
   ],
   "source": [
    "print(\"nearest neighbor classication: \\n\")\n",
    "N = 10\n",
    "for i in range(4):\n",
    "    error_neighbor(N,x1,x2)\n",
    "    N = 10*N\n",
    "    print(\"\")"
   ]
  },
  {
   "cell_type": "code",
   "execution_count": null,
   "metadata": {},
   "outputs": [],
   "source": []
  },
  {
   "cell_type": "code",
   "execution_count": null,
   "metadata": {},
   "outputs": [],
   "source": []
  },
  {
   "cell_type": "code",
   "execution_count": null,
   "metadata": {},
   "outputs": [],
   "source": []
  },
  {
   "cell_type": "code",
   "execution_count": null,
   "metadata": {},
   "outputs": [],
   "source": []
  },
  {
   "cell_type": "code",
   "execution_count": null,
   "metadata": {},
   "outputs": [],
   "source": []
  }
 ],
 "metadata": {
  "kernelspec": {
   "display_name": "Python 3",
   "language": "python",
   "name": "python3"
  },
  "language_info": {
   "codemirror_mode": {
    "name": "ipython",
    "version": 3
   },
   "file_extension": ".py",
   "mimetype": "text/x-python",
   "name": "python",
   "nbconvert_exporter": "python",
   "pygments_lexer": "ipython3",
   "version": "3.7.4"
  }
 },
 "nbformat": 4,
 "nbformat_minor": 2
}
