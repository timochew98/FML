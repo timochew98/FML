{
 "cells": [
  {
   "cell_type": "code",
   "execution_count": 2,
   "metadata": {},
   "outputs": [],
   "source": [
    "import numpy as np\n",
    "from matplotlib import pyplot as plt\n",
    "from random import choices"
   ]
  },
  {
   "cell_type": "markdown",
   "metadata": {},
   "source": [
    "# 1.1"
   ]
  },
  {
   "cell_type": "code",
   "execution_count": 111,
   "metadata": {},
   "outputs": [
    {
     "data": {
      "image/png": "[encoded data removed]",
      "text/plain": [
       "<Figure size 432x288 with 1 Axes>"
      ]
     },
     "metadata": {
      "needs_background": "light"
     },
     "output_type": "display_data"
    }
   ],
   "source": [
    "def create_data2(N):\n",
    "    x = np.array([])\n",
    "    y = np.array([])\n",
    "    population = [0,1]\n",
    "    for i in range(N):\n",
    "        a = np.random.uniform()\n",
    "        weights = [1-a, a] \n",
    "        x = np.append(x, a)\n",
    "        y = np.append(y,choices(population, weights))\n",
    "    return x,y\n",
    "x,y = create_data(1000)\n",
    "plt.hist2d(x,y, bins = [20,2])\n",
    "plt.show()\n",
    "    "
   ]
  },
  {
   "cell_type": "code",
   "execution_count": 112,
   "metadata": {},
   "outputs": [
    {
     "data": {
      "image/png": "[encoded data removed]",
      "text/plain": [
       "<Figure size 432x288 with 1 Axes>"
      ]
     },
     "metadata": {
      "needs_background": "light"
     },
     "output_type": "display_data"
    }
   ],
   "source": [
    "def create_data(N):\n",
    "    X = np.array([])\n",
    "    Y = np.array([])\n",
    "    for i in range(N):\n",
    "        y = np.random.randint(low =0, high= 2)\n",
    "        Y = np.append(Y,y)\n",
    "        if y == 0:\n",
    "            X= np.append(X, 1 - np.sqrt(1-np.random.uniform()))\n",
    "        else:\n",
    "            X= np.append(X, np.sqrt(np.random.uniform()))\n",
    "    return X,Y\n",
    "\n",
    "x,y = create_data2(1000)\n",
    "plt.hist2d(x,y, bins = [20,2])\n",
    "plt.show()"
   ]
  },
  {
   "cell_type": "markdown",
   "metadata": {},
   "source": [
    "# 1.2"
   ]
  },
  {
   "cell_type": "code",
   "execution_count": 113,
   "metadata": {},
   "outputs": [],
   "source": [
    "def threshold_classifier(N, xt):\n",
    "    x,Y_theo = create_data(N)\n",
    "    Y_exp = np.array([])\n",
    "    for i in range(len(x)):\n",
    "        if x[i]<xt:\n",
    "            Y_exp = np.append(Y_exp, 0)\n",
    "        else:\n",
    "            Y_exp = np.append(Y_exp, 1)\n",
    "    correct = 0 \n",
    "    for k in range(len(Y_exp)):\n",
    "        if Y_exp[k] == Y_theo[k]:\n",
    "            correct = correct + 1\n",
    "\n",
    "    error = (len(Y_exp)- correct)/len(Y_exp)\n",
    "    return error"
   ]
  },
  {
   "cell_type": "code",
   "execution_count": 114,
   "metadata": {},
   "outputs": [],
   "source": [
    "def error_threshold(xt,N):\n",
    "    error_array = np.array([])\n",
    "    for i in range(10):\n",
    "        error_array = np.append(error_array,threshold_classifier(N, xt))\n",
    "    print(\"mean(N = {}, xt= {}) = \".format(N,xt) + str(np.mean(error_array)))\n",
    "    print(\"standard deviation(N = {}, xt= {}) = \".format(N,xt)+ str(np.std(error_array)))\n",
    "    "
   ]
  },
  {
   "cell_type": "code",
   "execution_count": 115,
   "metadata": {},
   "outputs": [
    {
     "name": "stdout",
     "output_type": "stream",
     "text": [
      "Threshold classifier: \n",
      "\n",
      "xt = 0.2: \n",
      "\n",
      "mean(N = 10, xt= 0.2) = 0.3\n",
      "standard deviation(N = 10, xt= 0.2) = 0.14832396974191325\n",
      "\n",
      "mean(N = 100, xt= 0.2) = 0.31\n",
      "standard deviation(N = 100, xt= 0.2) = 0.04123105625617661\n",
      "\n",
      "mean(N = 1000, xt= 0.2) = 0.3398\n",
      "standard deviation(N = 1000, xt= 0.2) = 0.011779643458101764\n",
      "\n",
      "mean(N = 10000, xt= 0.2) = 0.33971999999999997\n",
      "standard deviation(N = 10000, xt= 0.2) = 0.0021641626556245692\n",
      "\n",
      "xt = 0.5: \n",
      "\n",
      "mean(N = 10, xt= 0.5) = 0.22000000000000003\n",
      "standard deviation(N = 10, xt= 0.5) = 0.08717797887081347\n",
      "\n",
      "mean(N = 100, xt= 0.5) = 0.23600000000000004\n",
      "standard deviation(N = 100, xt= 0.5) = 0.040298883359219766\n",
      "\n",
      "mean(N = 1000, xt= 0.5) = 0.2481\n",
      "standard deviation(N = 1000, xt= 0.5) = 0.014727185746095557\n",
      "\n",
      "mean(N = 10000, xt= 0.5) = 0.25054\n",
      "standard deviation(N = 10000, xt= 0.5) = 0.004845245091840039\n",
      "\n",
      "xt = 0.6: \n",
      "\n",
      "mean(N = 10, xt= 0.6) = 0.34\n",
      "standard deviation(N = 10, xt= 0.6) = 0.12\n",
      "\n",
      "mean(N = 100, xt= 0.6) = 0.277\n",
      "standard deviation(N = 100, xt= 0.6) = 0.02491987158875422\n",
      "\n",
      "mean(N = 1000, xt= 0.6) = 0.2632\n",
      "standard deviation(N = 1000, xt= 0.6) = 0.012631706139710501\n",
      "\n",
      "mean(N = 10000, xt= 0.6) = 0.26283\n",
      "standard deviation(N = 10000, xt= 0.6) = 0.002251688255509631\n",
      "\n"
     ]
    }
   ],
   "source": [
    "print(\"Threshold classifier: \\n\")\n",
    "N = 10\n",
    "\n",
    "xt = 0.2\n",
    "print(\"xt = {}: \\n\".format(xt))\n",
    "for i in range(4):\n",
    "    error_threshold(xt,N)\n",
    "    N = 10*N\n",
    "    print(\"\")\n",
    "\n",
    "N = 10\n",
    "xt = 0.5\n",
    "print(\"xt = {}: \\n\".format(xt))\n",
    "for i in range(4):\n",
    "    error_threshold(xt,N)\n",
    "    N = 10*N\n",
    "    print(\"\")\n",
    "    \n",
    "N = 10\n",
    "xt = 0.6\n",
    "print(\"xt = {}: \\n\".format(xt))\n",
    "for i in range(4):\n",
    "    error_threshold(xt,N)\n",
    "    N = 10*N\n",
    "    print(\"\")"
   ]
  },
  {
   "cell_type": "markdown",
   "metadata": {},
   "source": [
    "# 1.3"
   ]
  },
  {
   "cell_type": "code",
   "execution_count": 116,
   "metadata": {},
   "outputs": [],
   "source": [
    "def baseline_classifier_guessing(N):\n",
    "    x,Y_theo = create_data(N)\n",
    "    Y_exp = np.array([])\n",
    "    for i in range(len(x)):\n",
    "        Y_exp = np.append(Y_exp, np.random.randint(low =0, high= 2))\n",
    "    correct = 0 \n",
    "    for k in range(len(Y_exp)):\n",
    "        if Y_exp[k] == Y_theo[k]:\n",
    "            correct = correct + 1\n",
    "\n",
    "    error = (len(Y_exp)- correct)/len(Y_exp)\n",
    "    return error\n",
    "def error_guessing(N):\n",
    "    error_array = np.array([])\n",
    "    for i in range(10):\n",
    "        error_array = np.append(error_array,baseline_classifier_guessing(N))\n",
    "    print(\"mean(N = {}) = \".format(N) + str(np.mean(error_array)))\n",
    "    print(\"standard deviation(N = {}) = \".format(N)+ str(np.std(error_array)))\n",
    "    "
   ]
  },
  {
   "cell_type": "code",
   "execution_count": 117,
   "metadata": {},
   "outputs": [
    {
     "name": "stdout",
     "output_type": "stream",
     "text": [
      "baseline classifier guessing \n",
      "\n",
      "mean(N = 10) = 0.42000000000000004\n",
      "standard deviation(N = 10) = 0.15362291495737215\n",
      "\n",
      "mean(N = 100) = 0.532\n",
      "standard deviation(N = 100) = 0.06910861017268399\n",
      "\n",
      "mean(N = 1000) = 0.49609999999999993\n",
      "standard deviation(N = 1000) = 0.01581423409463766\n",
      "\n",
      "mean(N = 10000) = 0.49837\n",
      "standard deviation(N = 10000) = 0.004529249385935812\n",
      "\n"
     ]
    }
   ],
   "source": [
    "print(\"baseline classifier guessing \\n\")\n",
    "N = 10\n",
    "for i in range(4):\n",
    "    error_guessing(N)\n",
    "    N = 10*N\n",
    "    print(\"\")"
   ]
  },
  {
   "cell_type": "code",
   "execution_count": 118,
   "metadata": {},
   "outputs": [],
   "source": [
    "def baseline_classifier_constant(N):\n",
    "    x,Y_theo = create_data(N)\n",
    "    Y_exp = np.array([])\n",
    "    for i in range(len(x)):\n",
    "        Y_exp = np.append(Y_exp, 1)\n",
    "    correct = 0 \n",
    "    for k in range(len(Y_exp)):\n",
    "        if Y_exp[k] == Y_theo[k]:\n",
    "            correct = correct + 1\n",
    "\n",
    "    error = (len(Y_exp)- correct)/len(Y_exp)\n",
    "    return error\n",
    "def error_constant(N):\n",
    "    error_array = np.array([])\n",
    "    for i in range(10):\n",
    "        error_array = np.append(error_array,baseline_classifier_constant(N))\n",
    "    print(\"mean(N = {}) = \".format(N) + str(np.mean(error_array)))\n",
    "    print(\"standard deviation(N = {}) = \".format(N)+ str(np.std(error_array)))"
   ]
  },
  {
   "cell_type": "code",
   "execution_count": 119,
   "metadata": {},
   "outputs": [
    {
     "name": "stdout",
     "output_type": "stream",
     "text": [
      "baseline classifier constant \n",
      "\n",
      "mean(N = 10) = 0.52\n",
      "standard deviation(N = 10) = 0.09797958971132711\n",
      "\n",
      "mean(N = 100) = 0.517\n",
      "standard deviation(N = 100) = 0.06753517601961219\n",
      "\n",
      "mean(N = 1000) = 0.4991999999999999\n",
      "standard deviation(N = 1000) = 0.014168980203246822\n",
      "\n",
      "mean(N = 10000) = 0.49878\n",
      "standard deviation(N = 10000) = 0.006757188764567703\n",
      "\n"
     ]
    }
   ],
   "source": [
    "print(\"baseline classifier constant \\n\")\n",
    "\n",
    "N = 10\n",
    "for i in range(4):\n",
    "    error_constant(N)\n",
    "    N = 10*N\n",
    "    print(\"\")"
   ]
  },
  {
   "cell_type": "markdown",
   "metadata": {},
   "source": [
    "# 1.4"
   ]
  },
  {
   "cell_type": "code",
   "execution_count": 135,
   "metadata": {},
   "outputs": [],
   "source": [
    "def generate_data2():\n",
    "    y = [0,1]\n",
    "    x = np.array([1 - np.sqrt(1-np.random.uniform()),np.sqrt(np.random.uniform())])\n",
    "    return x,y\n",
    "\n"
   ]
  },
  {
   "cell_type": "code",
   "execution_count": 150,
   "metadata": {},
   "outputs": [],
   "source": [
    "def nearest_neighbor_classication(N):\n",
    "    x,y = generate_data2()\n",
    "    x1 = x[0]\n",
    "    x2 = x[1]\n",
    "    x,Y_theo = create_data(N)\n",
    "    Y_exp = np.array([])\n",
    "    for i in range(len(x)):\n",
    "        if np.abs(x[i]-x1) < np.abs(x[i]-x2):\n",
    "            Y_exp = np.append(Y_exp, 0)\n",
    "        else:\n",
    "            Y_exp = np.append(Y_exp, 1)\n",
    "    correct = 0 \n",
    "    for k in range(len(Y_exp)):\n",
    "        if Y_exp[k] == Y_theo[k]:\n",
    "            correct = correct + 1\n",
    "\n",
    "    error = (len(Y_exp)- correct)/len(Y_exp)\n",
    "    return error,x1,x2\n",
    "    "
   ]
  },
  {
   "cell_type": "code",
   "execution_count": 137,
   "metadata": {},
   "outputs": [
    {
     "data": {
      "text/plain": [
       "0.7344"
      ]
     },
     "execution_count": 137,
     "metadata": {},
     "output_type": "execute_result"
    }
   ],
   "source": [
    "nearest_neighbor_classication(10000)"
   ]
  },
  {
   "cell_type": "code",
   "execution_count": 151,
   "metadata": {},
   "outputs": [
    {
     "name": "stdout",
     "output_type": "stream",
     "text": [
      "nearest neighbor classication with a training set N= 2: \n",
      " \n",
      "average error = 0.35403300000000004\n",
      "average x1 = 0.3605399896452435\n",
      "average x2 = 0.6353944857696759\n"
     ]
    }
   ],
   "source": [
    "error_array = np.array([])\n",
    "x1_array = np.array([])\n",
    "x2_array = np.array([])\n",
    "for i in range(100):\n",
    "    error, x1,x2 = nearest_neighbor_classication(10000)\n",
    "    error_array = np.append(error_array,error)\n",
    "    x1_array = np.append(x1_array,x1)\n",
    "    x2_array = np.append(x2_array,x2)\n",
    "print(\"nearest neighbor classication with a training set N= 2: \\n \")\n",
    "print(\"average error = \" + str(np.mean(error_array)))\n",
    "print(\"average x1 = \" + str(np.mean(x1_array)))\n",
    "print(\"average x2 = \" + str(np.mean(x2_array)))"
   ]
  },
  {
   "cell_type": "markdown",
   "metadata": {},
   "source": [
    "## Training set N = 100"
   ]
  },
  {
   "cell_type": "code",
   "execution_count": 146,
   "metadata": {},
   "outputs": [],
   "source": [
    "def nearest_neighbor_classication2(N):\n",
    "    x,y = create_data(100)\n",
    "    if max(y)<1:\n",
    "        y[0] = 1\n",
    "        x[0]= np.sqrt(np.random.uniform())\n",
    "    if min(y)>0:\n",
    "        y[1] = 0\n",
    "        x[1] = 1 - np.sqrt(1-np.random.uniform())\n",
    "    sum1 = 0\n",
    "    sum2 = 0\n",
    "    N1 = 0\n",
    "    N2 = 0\n",
    "    for i in range(len(y)):\n",
    "        if y[i] ==0:\n",
    "            sum1 = sum1 + x[i]\n",
    "            N1 = N1 +1\n",
    "        else:\n",
    "            sum2 = sum2 + x[i]\n",
    "            N2 = N2 +1\n",
    "    x1 = sum1/N1\n",
    "    x2 = sum2/N2\n",
    "    x,Y_theo = create_data(N)\n",
    "    Y_exp = np.array([])\n",
    "    for i in range(len(x)):\n",
    "        if np.abs(x[i]-x1) < np.abs(x[i]-x2):\n",
    "            Y_exp = np.append(Y_exp, 0)\n",
    "        else:\n",
    "            Y_exp = np.append(Y_exp, 1)\n",
    "    correct = 0 \n",
    "    for k in range(len(Y_exp)):\n",
    "        if Y_exp[k] == Y_theo[k]:\n",
    "            correct = correct + 1\n",
    "\n",
    "    error = (len(Y_exp)- correct)/len(Y_exp)\n",
    "    return error,x1,x2"
   ]
  },
  {
   "cell_type": "code",
   "execution_count": 147,
   "metadata": {},
   "outputs": [
    {
     "name": "stdout",
     "output_type": "stream",
     "text": [
      "nearest neighbor classication with a training set N= 100: \n",
      " \n",
      "average error = 0.25025600000000003\n",
      "average x1 = 0.3360075448628138\n",
      "average x2 = 0.6663918488804277\n"
     ]
    }
   ],
   "source": [
    "error_array = np.array([])\n",
    "x1_array = np.array([])\n",
    "x2_array = np.array([])\n",
    "for i in range(100):\n",
    "    error, x1,x2 = nearest_neighbor_classication2(10000)\n",
    "    error_array = np.append(error_array,error)\n",
    "    x1_array = np.append(x1_array,x1)\n",
    "    x2_array = np.append(x2_array,x2)\n",
    "print(\"nearest neighbor classication with a training set N= 100: \\n \")\n",
    "print(\"average error = \" + str(np.mean(error_array)))\n",
    "print(\"average x1 = \" + str(np.mean(x1_array)))\n",
    "print(\"average x2 = \" + str(np.mean(x2_array)))"
   ]
  },
  {
   "cell_type": "code",
   "execution_count": null,
   "metadata": {},
   "outputs": [],
   "source": []
  }
 ],
 "metadata": {
  "kernelspec": {
   "display_name": "Python 3",
   "language": "python",
   "name": "python3"
  },
  "language_info": {
   "codemirror_mode": {
    "name": "ipython",
    "version": 3
   },
   "file_extension": ".py",
   "mimetype": "text/x-python",
   "name": "python",
   "nbconvert_exporter": "python",
   "pygments_lexer": "ipython3",
   "version": "3.7.4"
  }
 },
 "nbformat": 4,
 "nbformat_minor": 2
}
