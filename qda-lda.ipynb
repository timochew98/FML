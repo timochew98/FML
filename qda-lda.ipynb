{
 "cells": [
  {
   "cell_type": "code",
   "execution_count": 234,
   "metadata": {},
   "outputs": [],
   "source": [
    "from sklearn.datasets import load_digits\n",
    "import numpy as np\n",
    "import matplotlib.pyplot as plt\n",
    "from numpy import linalg as LA\n",
    "from scipy import stats\n",
    "from sklearn import model_selection"
   ]
  },
  {
   "cell_type": "code",
   "execution_count": 235,
   "metadata": {},
   "outputs": [],
   "source": [
    "digits = load_digits()"
   ]
  },
  {
   "cell_type": "code",
   "execution_count": 236,
   "metadata": {},
   "outputs": [],
   "source": [
    "data = digits[\"data\"]\n",
    "images = digits[\"images\"]\n",
    "target = digits[\"target\"]\n",
    "target_names = digits[\"target_names\"]"
   ]
  },
  {
   "cell_type": "code",
   "execution_count": 237,
   "metadata": {},
   "outputs": [],
   "source": [
    "X_all = data\n",
    "X_train , X_test , y_train , y_test =model_selection . train_test_split ( digits.data , digits.target , test_size = 0.4 , random_state = 0)"
   ]
  },
  {
   "cell_type": "code",
   "execution_count": 238,
   "metadata": {},
   "outputs": [],
   "source": [
    "X_train1= []\n",
    "X_test1= []\n",
    "y_train1= []\n",
    "y_test1= []\n",
    "for i in range(len(X_train)):\n",
    "    if y_train[i] ==1:\n",
    "        X_train1.append(X_train[i])\n",
    "        y_train1.append(y_train[i])\n",
    "for i in range(len(X_test)):\n",
    "    if y_test[i] ==1:\n",
    "        X_test1.append(X_test[i])\n",
    "        y_test1.append(y_test[i])\n",
    "X_train1 = np.array(X_train1)\n",
    "X_test1 = np.array(X_test1)\n",
    "y_train1 = np.array(y_train1)\n",
    "y_test1 = np.array(y_test1)"
   ]
  },
  {
   "cell_type": "code",
   "execution_count": 239,
   "metadata": {},
   "outputs": [],
   "source": [
    "X_train7= []\n",
    "X_test7= []\n",
    "y_train7= []\n",
    "y_test7= []\n",
    "for i in range(len(X_train)):\n",
    "    if y_train[i] ==7:\n",
    "        X_train7.append(X_train[i])\n",
    "        y_train7.append(y_train[i])\n",
    "for i in range(len(X_test)):\n",
    "    if y_test[i] ==7:\n",
    "        X_test7.append(X_test[i])\n",
    "        y_test7.append(y_test[i])\n",
    "X_train7 = np.array(X_train7)\n",
    "X_test7 = np.array(X_test7)\n",
    "y_train7 = np.array(y_train7)\n",
    "y_test7 = np.array(y_test7)"
   ]
  },
  {
   "cell_type": "code",
   "execution_count": 240,
   "metadata": {},
   "outputs": [],
   "source": [
    "X_trainA= []\n",
    "X_testA= []\n",
    "y_trainA= []\n",
    "y_testA= []\n",
    "for i in range(len(X_train)):\n",
    "    if y_train[i] ==1 or y_train[i] == 7:\n",
    "        X_trainA.append(X_train[i])\n",
    "        y_trainA.append(y_train[i])\n",
    "for i in range(len(X_test)):\n",
    "    if y_test[i] ==1 or y_test[i] == 7:\n",
    "        X_testA.append(X_test[i])\n",
    "        y_testA.append(y_test[i])\n",
    "X_trainA = np.array(X_trainA)\n",
    "X_testA = np.array(X_testA)\n",
    "y_trainA = np.array(y_trainA)\n",
    "y_testA = np.array(y_testA)"
   ]
  },
  {
   "cell_type": "markdown",
   "metadata": {},
   "source": [
    "# 3.1"
   ]
  },
  {
   "cell_type": "code",
   "execution_count": 241,
   "metadata": {},
   "outputs": [],
   "source": [
    "index1_16 = np.array(np.where(X_train1 ==16))\n",
    "index1_0 = np.array(np.where(X_train1 ==0))\n",
    "index7_16 = np.array(np.where(X_train7 >13))\n",
    "index7_0 = np.array(np.where(X_train7 ==0))\n"
   ]
  },
  {
   "cell_type": "code",
   "execution_count": 242,
   "metadata": {},
   "outputs": [],
   "source": [
    "def reduce_dim(x):\n",
    "    index1 = np.array([])\n",
    "    index2 = np.array([])\n",
    "    for i in range(64):\n",
    "        m = np.count_nonzero(index1_16[1,:]==i) + np.count_nonzero(index7_0[1,:]==i)\n",
    "        n = np.count_nonzero(index1_0[1,:]==i) + np.count_nonzero(index7_16[1,:]==i)\n",
    "        if m >123: #Found by experimenting, could be done automatically\n",
    "            index1 = np.append(index1,i)\n",
    "        if n >90: #Found by experimenting, could be done automatically\n",
    "            index2 = np.append(index2,i)\n",
    "    index1 = index1.astype('int64')\n",
    "    index2 = index2.astype('int64')\n",
    "    feature_1=np.mean( x[:,index1],axis = 1)\n",
    "    feature_2= np.mean( x[:,index2],axis = 1)\n",
    "    return np.stack((feature_1, feature_2),axis=1)\n"
   ]
  },
  {
   "cell_type": "code",
   "execution_count": 243,
   "metadata": {},
   "outputs": [],
   "source": [
    "reduced_x_train = reduce_dim(X_trainA)\n",
    "reduced_x1 = reduce_dim(X_train1)\n",
    "reduced_x7 = reduce_dim(X_train7)\n",
    "reduced_x_test = reduce_dim(X_testA)"
   ]
  },
  {
   "cell_type": "markdown",
   "metadata": {},
   "source": [
    "# 3.2"
   ]
  },
  {
   "cell_type": "code",
   "execution_count": 244,
   "metadata": {},
   "outputs": [
    {
     "data": {
      "text/plain": [
       "<matplotlib.collections.PathCollection at 0x20d6fffaac8>"
      ]
     },
     "execution_count": 244,
     "metadata": {},
     "output_type": "execute_result"
    },
    {
     "data": {
      "image/png": "[encoded data removed]",
      "text/plain": [
       "<Figure size 432x288 with 1 Axes>"
      ]
     },
     "metadata": {
      "needs_background": "light"
     },
     "output_type": "display_data"
    }
   ],
   "source": [
    "plt.scatter(reduced_x1[:,0],reduced_x1[:,1] )\n",
    "plt.scatter(reduced_x7[:,0],reduced_x7[:,1] )"
   ]
  },
  {
   "cell_type": "markdown",
   "metadata": {},
   "source": [
    "# 4.1"
   ]
  },
  {
   "cell_type": "code",
   "execution_count": 245,
   "metadata": {},
   "outputs": [],
   "source": [
    "def dist_vec(test_features, mean):\n",
    "    distance = np.sqrt(np.sum(np.square(np.subtract(test_features[:, np.newaxis], mean)), axis=2))\n",
    "    return distance"
   ]
  },
  {
   "cell_type": "code",
   "execution_count": 246,
   "metadata": {},
   "outputs": [],
   "source": [
    "def nearest_mean(training_features, training_labels, test_features):\n",
    "    x1_mean = np.mean(training_features[1 == training_labels],axis = 0)\n",
    "    x7_mean = np.mean(training_features[7 == training_labels],axis = 0)\n",
    "    distance_matrix1 = dist_vec(test_features,x1_mean)\n",
    "    distance_matrix7 = dist_vec(test_features,x7_mean)\n",
    "    label=np.where(np.greater(distance_matrix1, distance_matrix7), 7,1)\n",
    "    return label.reshape(len(label))"
   ]
  },
  {
   "cell_type": "code",
   "execution_count": 247,
   "metadata": {},
   "outputs": [],
   "source": [
    "predicted_labels_nm = nearest_mean(reduced_x_train, y_trainA, reduced_x_test)"
   ]
  },
  {
   "cell_type": "code",
   "execution_count": 248,
   "metadata": {},
   "outputs": [],
   "source": [
    "error_nm = np.mean(np.where(predicted_labels_nm== y_testA, 0,1))"
   ]
  },
  {
   "cell_type": "code",
   "execution_count": 249,
   "metadata": {},
   "outputs": [
    {
     "data": {
      "text/plain": [
       "array([0.02173913, 0.01449275, 0.01449275])"
      ]
     },
     "execution_count": 249,
     "metadata": {},
     "output_type": "execute_result"
    }
   ],
   "source": [
    "error"
   ]
  },
  {
   "cell_type": "markdown",
   "metadata": {},
   "source": [
    "# 4.2"
   ]
  },
  {
   "cell_type": "code",
   "execution_count": null,
   "metadata": {},
   "outputs": [],
   "source": []
  },
  {
   "cell_type": "markdown",
   "metadata": {},
   "source": [
    "# 5.1"
   ]
  },
  {
   "cell_type": "code",
   "execution_count": 250,
   "metadata": {},
   "outputs": [],
   "source": [
    "def fit_qda(training_features, training_labels):\n",
    "    x1_mean = np.mean(training_features[1 == training_labels],axis = 0)\n",
    "    x7_mean = np.mean(training_features[7 == training_labels],axis = 0)\n",
    "    D = len(x1_mean)\n",
    "    mu = np.stack((x1_mean, x7_mean), axis = 0)\n",
    "    scatter_matrix1 = np.zeros((D,D))\n",
    "    scatter_matrix7 = np.zeros((D,D))\n",
    "    for i in range(len(training_features)):\n",
    "        x = training_features[i, :] - x1_mean\n",
    "        for k in range(D):\n",
    "            for m in range(D):\n",
    "                scatter_matrix1[k,m] = scatter_matrix1[k,m]+  x[k]*x[m]\n",
    "    for i in range(len(training_features)):\n",
    "        x = training_features[i, :] - x7_mean\n",
    "        for k in range(D):\n",
    "            for m in range(D):\n",
    "                scatter_matrix7[k,m] = scatter_matrix7[k,m]+  x[k]*x[m]\n",
    "    covmat1 = scatter_matrix1/(len(training_features))\n",
    "    covmat7 = scatter_matrix7/(len(training_features))\n",
    "    covmat = np.stack((covmat1, covmat7),axis = 0)\n",
    "    p1 = len(training_features[1 == training_labels])/len(training_features)\n",
    "    p7 = len(training_features[7 == training_labels])/len(training_features)\n",
    "    p = np.array([p1,p7])\n",
    "    return mu, covmat,p"
   ]
  },
  {
   "cell_type": "code",
   "execution_count": 251,
   "metadata": {},
   "outputs": [],
   "source": [
    "mu_qda, covmat_qda,p_qda = fit_qda(reduced_x_train, y_trainA)"
   ]
  },
  {
   "cell_type": "markdown",
   "metadata": {},
   "source": [
    "# 5.2"
   ]
  },
  {
   "cell_type": "code",
   "execution_count": 252,
   "metadata": {},
   "outputs": [],
   "source": [
    "def predict_qda(mu, covmat, p, test_features):\n",
    "    y= []\n",
    "    for i in range(len(mu)):\n",
    "        x = np.array([])\n",
    "        bk = 0.5*np.log(LA.det(2*np.pi*covmat[i]))- np.log(p[i])\n",
    "        for k in range(len(test_features)):\n",
    "            x = np.append(x,0.5 *(test_features[k,:]-mu[i]).dot(LA.inv(covmat[i]).dot((test_features[k,:]-mu[i]).T))  + bk)\n",
    "        y.append(x)\n",
    "    return np.where(np.argmin(y,axis=0)==0,1,7)"
   ]
  },
  {
   "cell_type": "code",
   "execution_count": 253,
   "metadata": {},
   "outputs": [],
   "source": [
    "predicted_labels_qda = predict_qda(mu_qda,covmat_qda, p_qda, reduced_x_test)"
   ]
  },
  {
   "cell_type": "code",
   "execution_count": 254,
   "metadata": {},
   "outputs": [],
   "source": [
    "error_qda = np.mean(np.where(predicted_labels_qda== y_testA, 0,1))"
   ]
  },
  {
   "cell_type": "code",
   "execution_count": 255,
   "metadata": {},
   "outputs": [
    {
     "data": {
      "text/plain": [
       "0.014492753623188406"
      ]
     },
     "execution_count": 255,
     "metadata": {},
     "output_type": "execute_result"
    }
   ],
   "source": [
    "error_qda"
   ]
  },
  {
   "cell_type": "code",
   "execution_count": null,
   "metadata": {},
   "outputs": [],
   "source": []
  },
  {
   "cell_type": "markdown",
   "metadata": {},
   "source": [
    "# 6"
   ]
  },
  {
   "cell_type": "code",
   "execution_count": 256,
   "metadata": {},
   "outputs": [],
   "source": [
    "def fit_lda(training_features, training_labels):\n",
    "    x1_mean = np.mean(training_features[1 == training_labels],axis = 0)\n",
    "    x7_mean = np.mean(training_features[7 == training_labels],axis = 0)\n",
    "    D = len(x1_mean)\n",
    "    mu = np.stack((x1_mean, x7_mean), axis = 0)\n",
    "    scatter_matrix1 = np.zeros((D,D))\n",
    "    scatter_matrix7 = np.zeros((D,D))\n",
    "    for i in range(len(training_features)):\n",
    "        x = training_features[i, :] - x1_mean\n",
    "        for k in range(D):\n",
    "            for m in range(D):\n",
    "                scatter_matrix1[k,m] = scatter_matrix1[k,m]+  x[k]*x[m]\n",
    "    for i in range(len(training_features)):\n",
    "        x = training_features[i, :] - x7_mean\n",
    "        for k in range(D):\n",
    "            for m in range(D):\n",
    "                scatter_matrix7[k,m] = scatter_matrix7[k,m]+  x[k]*x[m]\n",
    "    covmat1 = scatter_matrix1/(len(training_features))\n",
    "    covmat7 = scatter_matrix7/(len(training_features))\n",
    "    covmat = (covmat1 + covmat7)/2\n",
    "    p1 = len(training_features[1 == training_labels])/len(training_features)\n",
    "    p7 = len(training_features[7 == training_labels])/len(training_features)\n",
    "    p = np.array([p1,p7])\n",
    "    return mu, covmat,p"
   ]
  },
  {
   "cell_type": "code",
   "execution_count": 257,
   "metadata": {},
   "outputs": [],
   "source": [
    "mu_lda, covmat_lda,p_lda = fit_lda(reduced_x_train, y_trainA)"
   ]
  },
  {
   "cell_type": "code",
   "execution_count": 258,
   "metadata": {},
   "outputs": [],
   "source": [
    "def predict_lda(mu, covmat, p, test_features):\n",
    "    y= []\n",
    "    D = len(mu[0])\n",
    "    b = np.array([])\n",
    "    w0 = (mu[0]).dot(LA.inv(covmat)) #la inversa es positivo\n",
    "    w1 = (mu[1]).dot(LA.inv(covmat))\n",
    "    w = w1-w0\n",
    "    b0 = 0.5*np.log(LA.det(2*np.pi*covmat))- np.log(p[0]) + 0.5*np.matmul(np.matmul(mu[0],LA.inv(covmat)),mu[0].T)\n",
    "    b1 = 0.5*np.log(LA.det(2*np.pi*covmat))- np.log(p[1]) + 0.5*np.matmul(np.matmul(mu[1],LA.inv(covmat)),mu[1].T)\n",
    "    b = b0 - b1\n",
    "    y = w[np.newaxis].dot(test_features[:,:,np.newaxis])+ b\n",
    "    return np.where(y<0,1,7)[0,:,0]"
   ]
  },
  {
   "cell_type": "code",
   "execution_count": 259,
   "metadata": {},
   "outputs": [],
   "source": [
    "predicted_labels_lda = predict_lda(mu_lda,covmat_lda, p_lda, reduced_x_test)"
   ]
  },
  {
   "cell_type": "code",
   "execution_count": 260,
   "metadata": {},
   "outputs": [
    {
     "data": {
      "text/plain": [
       "0.014492753623188406"
      ]
     },
     "execution_count": 260,
     "metadata": {},
     "output_type": "execute_result"
    }
   ],
   "source": [
    "error_lda = np.mean(np.where(predicted_labels_lda== y_testA, 0,1))\n",
    "error_lda"
   ]
  },
  {
   "cell_type": "code",
   "execution_count": 261,
   "metadata": {},
   "outputs": [],
   "source": [
    "error = np.array([error_nm, error_qda, error_lda])"
   ]
  },
  {
   "cell_type": "code",
   "execution_count": 262,
   "metadata": {},
   "outputs": [
    {
     "data": {
      "text/plain": [
       "array([0.02173913, 0.01449275, 0.01449275])"
      ]
     },
     "execution_count": 262,
     "metadata": {},
     "output_type": "execute_result"
    }
   ],
   "source": [
    "error"
   ]
  },
  {
   "cell_type": "code",
   "execution_count": 263,
   "metadata": {},
   "outputs": [],
   "source": [
    "comparisson_qda_lda = np.mean(np.where(predicted_labels_lda== predicted_labels_qda, 0,1))"
   ]
  },
  {
   "cell_type": "code",
   "execution_count": 264,
   "metadata": {},
   "outputs": [
    {
     "data": {
      "text/plain": [
       "0.0"
      ]
     },
     "execution_count": 264,
     "metadata": {},
     "output_type": "execute_result"
    }
   ],
   "source": [
    "comparisson_qda_lda"
   ]
  },
  {
   "cell_type": "code",
   "execution_count": null,
   "metadata": {},
   "outputs": [],
   "source": []
  }
 ],
 "metadata": {
  "kernelspec": {
   "display_name": "Python 3",
   "language": "python",
   "name": "python3"
  },
  "language_info": {
   "codemirror_mode": {
    "name": "ipython",
    "version": 3
   },
   "file_extension": ".py",
   "mimetype": "text/x-python",
   "name": "python",
   "nbconvert_exporter": "python",
   "pygments_lexer": "ipython3",
   "version": "3.7.4"
  }
 },
 "nbformat": 4,
 "nbformat_minor": 2
}
