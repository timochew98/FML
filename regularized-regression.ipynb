{
 "cells": [
  {
   "cell_type": "code",
   "execution_count": 1,
   "metadata": {},
   "outputs": [],
   "source": [
    "from sklearn.datasets import load_digits\n",
    "import numpy as np\n",
    "import matplotlib.pyplot as plt\n",
    "from numpy import linalg as LA\n",
    "from scipy import stats\n",
    "from sklearn import model_selection\n",
    "from scipy.sparse.linalg import lsqr\n",
    "from sklearn.model_selection import train_test_split, cross_val_score"
   ]
  },
  {
   "cell_type": "code",
   "execution_count": 2,
   "metadata": {},
   "outputs": [],
   "source": [
    "def show1(img):\n",
    "    assert 2 == len(img.shape)\n",
    "    plt.figure()\n",
    "    plt.gray()\n",
    "    plt.imshow (img , interpolation = \"nearest\") # also try interpolation =\" bicubic \"\n",
    "    plt.show()\n",
    "def show2(img):  \n",
    "    assert 2 == len(img.shape)\n",
    "    plt.figure()\n",
    "    plt.gray()\n",
    "    plt.imshow (img , interpolation = \"bicubic\") # also try interpolation =\" bicubic \"\n",
    "    plt.show()"
   ]
  },
  {
   "cell_type": "markdown",
   "metadata": {},
   "source": [
    "# 4 Automatic feature selection for regression"
   ]
  },
  {
   "cell_type": "markdown",
   "metadata": {},
   "source": [
    "## 4.1 Implement Orthogonal Matching Pursuit"
   ]
  },
  {
   "cell_type": "code",
   "execution_count": 3,
   "metadata": {},
   "outputs": [],
   "source": [
    "def omp_regression(X, y, T):\n",
    "    r = y\n",
    "    A = []\n",
    "    for i in range(T):\n",
    "        j= np.argmax(np.absolute(np.dot(X.T, r)))\n",
    "        A.append(j)\n",
    "        X_active = np.zeros(X.shape)\n",
    "        X_active = X[:,A]\n",
    "        S = np.dot(X_active.T, X_active)\n",
    "        beta= np.dot(LA.inv(S),np.dot(X_active.T, y))\n",
    "        r = y- np.dot(X_active, beta)\n",
    "    X_active = np.zeros(X.shape)\n",
    "    X_active[:,A] = X[:,A]\n",
    "    beta = np.array(lsqr(X_active, y)[0])\n",
    "    return beta"
   ]
  },
  {
   "cell_type": "markdown",
   "metadata": {},
   "source": [
    "## 4.2 Classification with sparse LDA"
   ]
  },
  {
   "cell_type": "code",
   "execution_count": 4,
   "metadata": {},
   "outputs": [],
   "source": [
    "def data_preparation(digits, test_percentage = 0.33, random_seed=0): #From sample solution\n",
    "    \"\"\"\n",
    "    This function filters the digits (1, 7) from the dataset and randomly splits it in train and test set.\n",
    "    \"\"\"\n",
    "    data = digits[\"data\"]\n",
    "    target = digits[\"target\"]\n",
    "    \n",
    "    # Data filering \n",
    "    num_1, num_2 = 1, 7\n",
    "    mask = np.logical_or(target == num_1, target == num_2)\n",
    "    data = data[mask]/data.max()\n",
    "    target = target[mask]\n",
    "    \n",
    "    # Relabel targets\n",
    "    target[target == num_1] = 1\n",
    "    target[target == num_2] = -1\n",
    "\n",
    "    # Random split\n",
    "    x_training, x_test, y_training, y_test = train_test_split(data, target, test_size=test_percentage,\n",
    "                                                                      random_state=random_seed)\n",
    "    \n",
    "    \n",
    "    return x_training, x_test, y_training, y_test"
   ]
  },
  {
   "cell_type": "markdown",
   "metadata": {},
   "source": [
    "Load Data"
   ]
  },
  {
   "cell_type": "code",
   "execution_count": 5,
   "metadata": {},
   "outputs": [],
   "source": [
    "digits = load_digits()\n",
    "x_training, x_test, y_training, y_test = data_preparation(digits, test_percentage = 0.33, random_seed=0)"
   ]
  },
  {
   "cell_type": "code",
   "execution_count": 6,
   "metadata": {},
   "outputs": [],
   "source": [
    "def sparse_LDA_error(T):\n",
    "    beta = omp_regression(x_training, y_training, T) # Desde 12 predice perfecto \n",
    "    y_predicted = np.dot(x_test, beta)\n",
    "    y_response = np.where(y_predicted>=0, 1,-1)\n",
    "\n",
    "    error_array = np.where(y_response == y_test, 0, 1)\n",
    "\n",
    "    return np.mean(error_array)"
   ]
  },
  {
   "cell_type": "code",
   "execution_count": 7,
   "metadata": {},
   "outputs": [
    {
     "name": "stdout",
     "output_type": "stream",
     "text": [
      "For T = 1\n"
     ]
    },
    {
     "data": {
      "image/png": "[encoded data removed]",
      "text/plain": [
       "<Figure size 432x288 with 1 Axes>"
      ]
     },
     "metadata": {
      "needs_background": "light"
     },
     "output_type": "display_data"
    },
    {
     "name": "stdout",
     "output_type": "stream",
     "text": [
      "Actual error = 0.575\n",
      "\n",
      " \n",
      "\n",
      "For T = 2\n"
     ]
    },
    {
     "data": {
      "image/png": "[encoded data removed]",
      "text/plain": [
       "<Figure size 432x288 with 1 Axes>"
      ]
     },
     "metadata": {
      "needs_background": "light"
     },
     "output_type": "display_data"
    },
    {
     "name": "stdout",
     "output_type": "stream",
     "text": [
      "New Pixel against 1\n",
      "Number of predicted 1s = 57\n",
      "Actual error = 0.05\n",
      "\n",
      " \n",
      "\n",
      "For T = 3\n"
     ]
    },
    {
     "data": {
      "image/png": "[encoded data removed]",
      "text/plain": [
       "<Figure size 432x288 with 1 Axes>"
      ]
     },
     "metadata": {
      "needs_background": "light"
     },
     "output_type": "display_data"
    },
    {
     "name": "stdout",
     "output_type": "stream",
     "text": [
      "New Pixel in favour of 1\n",
      "Number of predicted 1s = 56\n",
      "Actual error = 0.041666666666666664\n",
      "\n",
      " \n",
      "\n",
      "For T = 4\n"
     ]
    },
    {
     "data": {
      "image/png": "[encoded data removed]",
      "text/plain": [
       "<Figure size 432x288 with 1 Axes>"
      ]
     },
     "metadata": {
      "needs_background": "light"
     },
     "output_type": "display_data"
    },
    {
     "name": "stdout",
     "output_type": "stream",
     "text": [
      "New Pixel in favour of 1\n",
      "Number of predicted 1s = 53\n",
      "Actual error = 0.016666666666666666\n",
      "\n",
      " \n",
      "\n",
      "For T = 5\n"
     ]
    },
    {
     "data": {
      "image/png": "[encoded data removed]",
      "text/plain": [
       "<Figure size 432x288 with 1 Axes>"
      ]
     },
     "metadata": {
      "needs_background": "light"
     },
     "output_type": "display_data"
    },
    {
     "name": "stdout",
     "output_type": "stream",
     "text": [
      "New Pixel in favour of 1\n",
      "Number of predicted 1s = 52\n",
      "Actual error = 0.008333333333333333\n",
      "\n",
      " \n",
      "\n",
      "For T = 6\n"
     ]
    },
    {
     "data": {
      "image/png": "[encoded data removed]",
      "text/plain": [
       "<Figure size 432x288 with 1 Axes>"
      ]
     },
     "metadata": {
      "needs_background": "light"
     },
     "output_type": "display_data"
    },
    {
     "name": "stdout",
     "output_type": "stream",
     "text": [
      "New Pixel against 1\n",
      "Number of predicted 1s = 52\n",
      "Actual error = 0.008333333333333333\n",
      "\n",
      " \n",
      "\n",
      "For T = 7\n"
     ]
    },
    {
     "data": {
      "image/png": "[encoded data removed]",
      "text/plain": [
       "<Figure size 432x288 with 1 Axes>"
      ]
     },
     "metadata": {
      "needs_background": "light"
     },
     "output_type": "display_data"
    },
    {
     "name": "stdout",
     "output_type": "stream",
     "text": [
      "New Pixel against 1\n",
      "Number of predicted 1s = 52\n",
      "Actual error = 0.008333333333333333\n",
      "\n",
      " \n",
      "\n",
      "For T = 8\n"
     ]
    },
    {
     "data": {
      "image/png": "[encoded data removed]",
      "text/plain": [
       "<Figure size 432x288 with 1 Axes>"
      ]
     },
     "metadata": {
      "needs_background": "light"
     },
     "output_type": "display_data"
    },
    {
     "name": "stdout",
     "output_type": "stream",
     "text": [
      "New Pixel in favour of 1\n",
      "Number of predicted 1s = 51\n",
      "Actual error = 0.0\n",
      "\n",
      " \n",
      "\n",
      "For T = 9\n"
     ]
    },
    {
     "data": {
      "image/png": "[encoded data removed]",
      "text/plain": [
       "<Figure size 432x288 with 1 Axes>"
      ]
     },
     "metadata": {
      "needs_background": "light"
     },
     "output_type": "display_data"
    },
    {
     "name": "stdout",
     "output_type": "stream",
     "text": [
      "New Pixel against 1\n",
      "Number of predicted 1s = 52\n",
      "Actual error = 0.008333333333333333\n",
      "\n",
      " \n",
      "\n",
      "For T = 10\n"
     ]
    },
    {
     "data": {
      "image/png": "[encoded data removed]",
      "text/plain": [
       "<Figure size 432x288 with 1 Axes>"
      ]
     },
     "metadata": {
      "needs_background": "light"
     },
     "output_type": "display_data"
    },
    {
     "name": "stdout",
     "output_type": "stream",
     "text": [
      "New Pixel against 1\n",
      "Number of predicted 1s = 52\n",
      "Actual error = 0.008333333333333333\n",
      "\n",
      " \n",
      "\n",
      "For T = 11\n"
     ]
    },
    {
     "data": {
      "image/png": "[encoded data removed]",
      "text/plain": [
       "<Figure size 432x288 with 1 Axes>"
      ]
     },
     "metadata": {
      "needs_background": "light"
     },
     "output_type": "display_data"
    },
    {
     "name": "stdout",
     "output_type": "stream",
     "text": [
      "New Pixel against 1\n",
      "Number of predicted 1s = 52\n",
      "Actual error = 0.008333333333333333\n",
      "\n",
      " \n",
      "\n",
      "For T = 12\n"
     ]
    },
    {
     "data": {
      "image/png": "[encoded data removed]",
      "text/plain": [
       "<Figure size 432x288 with 1 Axes>"
      ]
     },
     "metadata": {
      "needs_background": "light"
     },
     "output_type": "display_data"
    },
    {
     "name": "stdout",
     "output_type": "stream",
     "text": [
      "New Pixel in favour of 1\n",
      "Number of predicted 1s = 51\n",
      "Actual error = 0.0\n",
      "\n",
      " \n",
      "\n"
     ]
    }
   ],
   "source": [
    "T = 12\n",
    "x = np.arange(T)+1\n",
    "y = np.array([])\n",
    "number_of_1_old = 0\n",
    "for i in range(T):\n",
    "    beta = omp_regression(x_training, y_training, i+1) # Desde 12 predice perfecto \n",
    "    indices = np.where(beta !=0, 12,0)\n",
    "    image = np.reshape(indices,(8,8))\n",
    "    print(\"For T = \"+ str(i+1))\n",
    "    show1(image)\n",
    "    y_predicted = np.dot(x_test, beta)\n",
    "    y_response = np.where(y_predicted>=0, 1,-1)\n",
    "    if i>0:\n",
    "        number_of_1 = np.count_nonzero(y_response ==1)\n",
    "        if number_of_1<number_of_1_old:\n",
    "            print(\"New Pixel in favour of 1\")\n",
    "        else: \n",
    "            print(\"New Pixel against 1\")\n",
    "        number_of_1_old = number_of_1\n",
    "        print(\"Number of predicted 1s = \" + str(number_of_1))\n",
    "    error_array = np.where(y_response == y_test, 0, 1)\n",
    "    print(\"Actual error = \" + str(np.mean(error_array)))\n",
    "    print(\"\\n \\n\")\n",
    "    y = np.append(y, np.mean(error_array))"
   ]
  },
  {
   "cell_type": "code",
   "execution_count": 8,
   "metadata": {},
   "outputs": [
    {
     "data": {
      "text/plain": [
       "[<matplotlib.lines.Line2D at 0x2d938553148>]"
      ]
     },
     "execution_count": 8,
     "metadata": {},
     "output_type": "execute_result"
    },
    {
     "data": {
      "image/png": "[encoded data removed]",
      "text/plain": [
       "<Figure size 432x288 with 1 Axes>"
      ]
     },
     "metadata": {
      "needs_background": "light"
     },
     "output_type": "display_data"
    }
   ],
   "source": [
    "plt.plot(x,y)"
   ]
  },
  {
   "cell_type": "markdown",
   "metadata": {},
   "source": [
    "### Our solution for Ex02"
   ]
  },
  {
   "cell_type": "code",
   "execution_count": 9,
   "metadata": {},
   "outputs": [],
   "source": [
    "indices_ex02_manual = np.loadtxt('indices_ex02.txt',dtype= int)\n",
    "indices_favour_1 = np.loadtxt('indices_favour_1.txt',dtype= int)\n",
    "indices_against_1 = np.loadtxt('indices_against_1.txt',dtype= int)"
   ]
  },
  {
   "cell_type": "code",
   "execution_count": 10,
   "metadata": {},
   "outputs": [],
   "source": [
    "beta = omp_regression(x_training, y_training, 10) \n",
    "indices_automatic = np.where(beta !=0)"
   ]
  },
  {
   "cell_type": "code",
   "execution_count": 11,
   "metadata": {},
   "outputs": [
    {
     "name": "stdout",
     "output_type": "stream",
     "text": [
      "number of equal selected features = 5\n"
     ]
    }
   ],
   "source": [
    "count  = 0\n",
    "for i in range(len(indices_automatic[0])):\n",
    "    count = count + np.count_nonzero(indices_ex02_manual ==indices_automatic[0][i])\n",
    "print(\"number of equal selected features = \" + str(count))"
   ]
  },
  {
   "cell_type": "code",
   "execution_count": 12,
   "metadata": {},
   "outputs": [
    {
     "name": "stdout",
     "output_type": "stream",
     "text": [
      "number of equal selected features (Our choosen features in favour of 1) = 4\n"
     ]
    }
   ],
   "source": [
    "count  = 0\n",
    "for i in range(len(indices_automatic[0])):\n",
    "    count = count + np.count_nonzero(indices_favour_1 ==indices_automatic[0][i])\n",
    "print(\"number of equal selected features (Our choosen features in favour of 1) = \" + str(count))"
   ]
  },
  {
   "cell_type": "code",
   "execution_count": 13,
   "metadata": {},
   "outputs": [
    {
     "name": "stdout",
     "output_type": "stream",
     "text": [
      "number of equal selected features (Our choosen features against of 1) = 1\n"
     ]
    }
   ],
   "source": [
    "count  = 0\n",
    "for i in range(len(indices_automatic[0])):\n",
    "    count = count + np.count_nonzero(indices_against_1 ==indices_automatic[0][i])\n",
    "print(\"number of equal selected features (Our choosen features against of 1) = \" + str(count))"
   ]
  },
  {
   "cell_type": "markdown",
   "metadata": {},
   "source": [
    "## 4.3 One-against-the-rest classification"
   ]
  },
  {
   "cell_type": "code",
   "execution_count": 14,
   "metadata": {},
   "outputs": [],
   "source": [
    "def data_preparation_one(digits, selected_number,test_percentage = 0.33, random_seed=0):\n",
    "    \"\"\"\n",
    "    This function filters the digits (1, 7) from the dataset and randomly splits it in train and test set.\n",
    "    \"\"\"\n",
    "    data = digits[\"data\"]\n",
    "    target = digits[\"target\"]\n",
    "    \n",
    "    # Positive subset\n",
    "    #data_positive = data[target ==selected_number]\n",
    "    #target_positive = target[target ==selected_number]\n",
    "    \n",
    "    # Negative subset\n",
    "    #data_negative = data[target !=selected_number]\n",
    "    #target_negative = target[target !=selected_number]\n",
    "    if selected_number>=0:\n",
    "    # Random split\n",
    "        x_training, x_test, y_training, y_test = train_test_split(data, target, test_size=test_percentage,\n",
    "                                                                          random_state=random_seed)\n",
    "        # Positive subset\n",
    "        x_positive = x_training[y_training ==selected_number]\n",
    "        y_positive = y_training[y_training ==selected_number]\n",
    "\n",
    "        # Negative subset\n",
    "        x_negative = x_training[y_training !=selected_number]\n",
    "        y_negative = y_training[y_training !=selected_number]\n",
    "\n",
    "        p = np.random.permutation(len(y_negative))\n",
    "        x_negative = x_negative[p]\n",
    "        y_negative = y_negative[p]\n",
    "        x_negative = x_negative[:len(y_positive)]\n",
    "        y_negative = y_negative[:len(y_positive)]\n",
    "        x_training = np.concatenate((x_positive, x_negative))\n",
    "        y_training = np.concatenate((y_positive, y_negative))\n",
    "        p = np.random.permutation(len(y_training))\n",
    "        x_training = x_training[p]\n",
    "        y_training = y_training[p]\n",
    "        y_training[y_training != selected_number] = -1\n",
    "        y_training[y_training == selected_number] = 1\n",
    "        return x_training,y_training, x_test, y_test\n",
    "    else:\n",
    "        x_training, x_test, y_training, y_test = train_test_split(data, target, test_size=test_percentage,\n",
    "                                                                          random_state=random_seed)\n",
    "        return x_test, y_test"
   ]
  },
  {
   "cell_type": "code",
   "execution_count": 15,
   "metadata": {},
   "outputs": [],
   "source": [
    "def one_against_the_rest(T,digits):\n",
    "    y_predicted = np.array([])\n",
    "    for i in range(10):\n",
    "        x_training,y_training,  x_test, y_test = data_preparation_one(digits, i,test_percentage = 0.33, random_seed=0)\n",
    "        beta = omp_regression(x_training, y_training, T) # Desde 12 predice perfecto \n",
    "        y_predicted_actual = np.dot(x_test, beta)\n",
    "        y_predicted = np.append(y_predicted,y_predicted_actual, axis = 0)\n",
    "    y_predicted = np.reshape(y_predicted, (10, len(y_test)))\n",
    "    sign = np.sign(y_predicted)\n",
    "    Sum = np.sum(sign,axis =0)\n",
    "    y_response = np.argmax(y_predicted, axis=0)\n",
    "    y_response = np.where(Sum==-10, -100, y_response) #\"unknown\" equivalent to -100\n",
    "    return y_response"
   ]
  },
  {
   "cell_type": "code",
   "execution_count": 16,
   "metadata": {},
   "outputs": [],
   "source": [
    "digits = load_digits()\n",
    "x_test, y_test = data_preparation_one(digits, -1,test_percentage = 0.33, random_seed=0)"
   ]
  },
  {
   "cell_type": "code",
   "execution_count": 17,
   "metadata": {},
   "outputs": [],
   "source": [
    "def error_one_against_the_rest_classifier(T,digits):\n",
    "    y_response = one_against_the_rest(T,digits)\n",
    "\n",
    "    number_of_unknown = np.count_nonzero(y_response ==-100)\n",
    "\n",
    "    error_array = np.where(y_response == y_test, 0,1)\n",
    "\n",
    "    error  = np.mean(error_array)\n",
    "\n",
    "    print(\"number of errors = \" +str(np.count_nonzero(error_array==1)) + \"\\n number of unknown values = \" + str(number_of_unknown) + \n",
    "          \"\\n total number of instances = \" + str(len(error_array)) + \"\\n mean error(unknown counts as error) = \" +str(error))\n",
    "    return error, number_of_unknown"
   ]
  },
  {
   "cell_type": "code",
   "execution_count": 18,
   "metadata": {},
   "outputs": [
    {
     "name": "stdout",
     "output_type": "stream",
     "text": [
      "T = 1\n",
      "number of errors = 474\n",
      " number of unknown values = 0\n",
      " total number of instances = 594\n",
      " mean error(unknown counts as error) = 0.797979797979798\n",
      "\n",
      " \n",
      "\n",
      "T = 2\n",
      "number of errors = 191\n",
      " number of unknown values = 3\n",
      " total number of instances = 594\n",
      " mean error(unknown counts as error) = 0.32154882154882153\n",
      "\n",
      " \n",
      "\n",
      "T = 3\n",
      "number of errors = 146\n",
      " number of unknown values = 10\n",
      " total number of instances = 594\n",
      " mean error(unknown counts as error) = 0.24579124579124578\n",
      "\n",
      " \n",
      "\n",
      "T = 4\n",
      "number of errors = 124\n",
      " number of unknown values = 12\n",
      " total number of instances = 594\n",
      " mean error(unknown counts as error) = 0.20875420875420875\n",
      "\n",
      " \n",
      "\n",
      "T = 5\n",
      "number of errors = 89\n",
      " number of unknown values = 9\n",
      " total number of instances = 594\n",
      " mean error(unknown counts as error) = 0.14983164983164984\n",
      "\n",
      " \n",
      "\n",
      "T = 6\n",
      "number of errors = 80\n",
      " number of unknown values = 3\n",
      " total number of instances = 594\n",
      " mean error(unknown counts as error) = 0.13468013468013468\n",
      "\n",
      " \n",
      "\n",
      "T = 7\n",
      "number of errors = 61\n",
      " number of unknown values = 4\n",
      " total number of instances = 594\n",
      " mean error(unknown counts as error) = 0.1026936026936027\n",
      "\n",
      " \n",
      "\n",
      "T = 8\n",
      "number of errors = 65\n",
      " number of unknown values = 6\n",
      " total number of instances = 594\n",
      " mean error(unknown counts as error) = 0.10942760942760943\n",
      "\n",
      " \n",
      "\n",
      "T = 9\n",
      "number of errors = 70\n",
      " number of unknown values = 7\n",
      " total number of instances = 594\n",
      " mean error(unknown counts as error) = 0.11784511784511785\n",
      "\n",
      " \n",
      "\n",
      "T = 10\n",
      "number of errors = 79\n",
      " number of unknown values = 4\n",
      " total number of instances = 594\n",
      " mean error(unknown counts as error) = 0.132996632996633\n",
      "\n",
      " \n",
      "\n",
      "T = 11\n",
      "number of errors = 54\n",
      " number of unknown values = 3\n",
      " total number of instances = 594\n",
      " mean error(unknown counts as error) = 0.09090909090909091\n",
      "\n",
      " \n",
      "\n",
      "T = 12\n",
      "number of errors = 56\n",
      " number of unknown values = 8\n",
      " total number of instances = 594\n",
      " mean error(unknown counts as error) = 0.09427609427609428\n",
      "\n",
      " \n",
      "\n",
      "T = 13\n",
      "number of errors = 69\n",
      " number of unknown values = 10\n",
      " total number of instances = 594\n",
      " mean error(unknown counts as error) = 0.11616161616161616\n",
      "\n",
      " \n",
      "\n",
      "T = 14\n",
      "number of errors = 54\n",
      " number of unknown values = 2\n",
      " total number of instances = 594\n",
      " mean error(unknown counts as error) = 0.09090909090909091\n",
      "\n",
      " \n",
      "\n",
      "T = 15\n",
      "number of errors = 47\n",
      " number of unknown values = 3\n",
      " total number of instances = 594\n",
      " mean error(unknown counts as error) = 0.07912457912457913\n",
      "\n",
      " \n",
      "\n",
      "T = 16\n",
      "number of errors = 49\n",
      " number of unknown values = 3\n",
      " total number of instances = 594\n",
      " mean error(unknown counts as error) = 0.08249158249158249\n",
      "\n",
      " \n",
      "\n",
      "T = 17\n",
      "number of errors = 58\n",
      " number of unknown values = 3\n",
      " total number of instances = 594\n",
      " mean error(unknown counts as error) = 0.09764309764309764\n",
      "\n",
      " \n",
      "\n",
      "T = 18\n",
      "number of errors = 43\n",
      " number of unknown values = 2\n",
      " total number of instances = 594\n",
      " mean error(unknown counts as error) = 0.0723905723905724\n",
      "\n",
      " \n",
      "\n",
      "T = 19\n",
      "number of errors = 50\n",
      " number of unknown values = 4\n",
      " total number of instances = 594\n",
      " mean error(unknown counts as error) = 0.08417508417508418\n",
      "\n",
      " \n",
      "\n",
      "T = 20\n",
      "number of errors = 49\n",
      " number of unknown values = 5\n",
      " total number of instances = 594\n",
      " mean error(unknown counts as error) = 0.08249158249158249\n",
      "\n",
      " \n",
      "\n",
      "T = 21\n",
      "number of errors = 42\n",
      " number of unknown values = 4\n",
      " total number of instances = 594\n",
      " mean error(unknown counts as error) = 0.0707070707070707\n",
      "\n",
      " \n",
      "\n",
      "T = 22\n",
      "number of errors = 47\n",
      " number of unknown values = 5\n",
      " total number of instances = 594\n",
      " mean error(unknown counts as error) = 0.07912457912457913\n",
      "\n",
      " \n",
      "\n",
      "T = 23\n",
      "number of errors = 54\n",
      " number of unknown values = 4\n",
      " total number of instances = 594\n",
      " mean error(unknown counts as error) = 0.09090909090909091\n",
      "\n",
      " \n",
      "\n",
      "T = 24\n",
      "number of errors = 43\n",
      " number of unknown values = 3\n",
      " total number of instances = 594\n",
      " mean error(unknown counts as error) = 0.0723905723905724\n",
      "\n",
      " \n",
      "\n",
      "T = 25\n",
      "number of errors = 48\n",
      " number of unknown values = 3\n",
      " total number of instances = 594\n",
      " mean error(unknown counts as error) = 0.08080808080808081\n",
      "\n",
      " \n",
      "\n"
     ]
    }
   ],
   "source": [
    "T = 25\n",
    "x = np.arange(T)+1\n",
    "error_array = np.array([])\n",
    "unknown_array = np.array([])\n",
    "for i in range(T):\n",
    "    print(\"T = \" + str(i+1))\n",
    "    error,unknown = error_one_against_the_rest_classifier(i+1,digits)\n",
    "    error_array = np.append(error_array, error)\n",
    "    unknown_array = np.append(unknown_array,unknown )\n",
    "    print(\"\\n \\n\")"
   ]
  },
  {
   "cell_type": "code",
   "execution_count": 19,
   "metadata": {},
   "outputs": [
    {
     "data": {
      "text/plain": [
       "[<matplotlib.lines.Line2D at 0x2d9354c8448>]"
      ]
     },
     "execution_count": 19,
     "metadata": {},
     "output_type": "execute_result"
    },
    {
     "data": {
      "image/png": "[encoded data removed]",
      "text/plain": [
       "<Figure size 432x288 with 1 Axes>"
      ]
     },
     "metadata": {
      "needs_background": "light"
     },
     "output_type": "display_data"
    }
   ],
   "source": [
    "plt.plot(x,error_array)"
   ]
  },
  {
   "cell_type": "code",
   "execution_count": 20,
   "metadata": {},
   "outputs": [
    {
     "data": {
      "text/plain": [
       "[<matplotlib.lines.Line2D at 0x2d9357ef908>]"
      ]
     },
     "execution_count": 20,
     "metadata": {},
     "output_type": "execute_result"
    },
    {
     "data": {
      "image/png": "[encoded data removed]",
      "text/plain": [
       "<Figure size 432x288 with 1 Axes>"
      ]
     },
     "metadata": {
      "needs_background": "light"
     },
     "output_type": "display_data"
    }
   ],
   "source": [
    "plt.plot(x,unknown_array)"
   ]
  },
  {
   "cell_type": "code",
   "execution_count": null,
   "metadata": {},
   "outputs": [],
   "source": []
  }
 ],
 "metadata": {
  "kernelspec": {
   "display_name": "Python 3",
   "language": "python",
   "name": "python3"
  },
  "language_info": {
   "codemirror_mode": {
    "name": "ipython",
    "version": 3
   },
   "file_extension": ".py",
   "mimetype": "text/x-python",
   "name": "python",
   "nbconvert_exporter": "python",
   "pygments_lexer": "ipython3",
   "version": "3.7.4"
  }
 },
 "nbformat": 4,
 "nbformat_minor": 2
}
