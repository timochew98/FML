{
 "cells": [
  {
   "cell_type": "code",
   "execution_count": 54,
   "metadata": {},
   "outputs": [],
   "source": [
    "from sklearn.datasets import load_digits\n",
    "import numpy as np\n",
    "import matplotlib.pyplot as plt\n",
    "from numpy import linalg as LA\n",
    "from scipy import stats"
   ]
  },
  {
   "cell_type": "markdown",
   "metadata": {},
   "source": [
    "# 3.1"
   ]
  },
  {
   "cell_type": "code",
   "execution_count": 55,
   "metadata": {},
   "outputs": [],
   "source": [
    "digits = load_digits()"
   ]
  },
  {
   "cell_type": "code",
   "execution_count": 56,
   "metadata": {},
   "outputs": [
    {
     "name": "stdout",
     "output_type": "stream",
     "text": [
      "dict_keys(['data', 'target', 'target_names', 'images', 'DESCR'])\n"
     ]
    }
   ],
   "source": [
    "print(digits.keys())"
   ]
  },
  {
   "cell_type": "code",
   "execution_count": 57,
   "metadata": {},
   "outputs": [],
   "source": [
    "data = digits[\"data\"]\n",
    "images = digits[\"images\"]\n",
    "target = digits[\"target\"]\n",
    "target_names = digits[\"target_names\"]"
   ]
  },
  {
   "cell_type": "code",
   "execution_count": 58,
   "metadata": {},
   "outputs": [
    {
     "data": {
      "text/plain": [
       "(1797, 8, 8)"
      ]
     },
     "execution_count": 58,
     "metadata": {},
     "output_type": "execute_result"
    }
   ],
   "source": [
    "images.shape"
   ]
  },
  {
   "cell_type": "code",
   "execution_count": 59,
   "metadata": {},
   "outputs": [],
   "source": [
    "img = images[13] #3 = i%10"
   ]
  },
  {
   "cell_type": "code",
   "execution_count": 60,
   "metadata": {},
   "outputs": [],
   "source": [
    "def show1(img):\n",
    "    assert 2 == len(img.shape)\n",
    "    plt.figure()\n",
    "    plt.gray()\n",
    "    plt.imshow (img , interpolation = \"nearest\") # also try interpolation =\" bicubic \"\n",
    "    plt.show ()\n"
   ]
  },
  {
   "cell_type": "code",
   "execution_count": 61,
   "metadata": {},
   "outputs": [],
   "source": [
    "def show2(imag):  \n",
    "    assert 2 == len(img.shape)\n",
    "    plt.figure()\n",
    "    plt.gray()\n",
    "    plt.imshow (img , interpolation = \"bicubic\") # also try interpolation =\" bicubic \"\n",
    "    plt.show ()\n",
    "    "
   ]
  },
  {
   "cell_type": "code",
   "execution_count": 62,
   "metadata": {},
   "outputs": [
    {
     "data": {
      "image/png": "[encoded data removed]",
      "text/plain": [
       "<Figure size 432x288 with 1 Axes>"
      ]
     },
     "metadata": {
      "needs_background": "light"
     },
     "output_type": "display_data"
    }
   ],
   "source": [
    "show1(img)"
   ]
  },
  {
   "cell_type": "code",
   "execution_count": 63,
   "metadata": {},
   "outputs": [
    {
     "data": {
      "image/png": "[encoded data removed]",
      "text/plain": [
       "<Figure size 432x288 with 1 Axes>"
      ]
     },
     "metadata": {
      "needs_background": "light"
     },
     "output_type": "display_data"
    }
   ],
   "source": [
    "show2(img)"
   ]
  },
  {
   "cell_type": "code",
   "execution_count": 64,
   "metadata": {},
   "outputs": [],
   "source": [
    "from sklearn import model_selection\n",
    "X_all = data\n",
    "#y_all = target\n",
    "X_train , X_test , y_train , y_test =model_selection . train_test_split ( digits.data , digits.target , test_size = 0.4 , random_state = 0)"
   ]
  },
  {
   "cell_type": "markdown",
   "metadata": {},
   "source": [
    "### 3.2"
   ]
  },
  {
   "cell_type": "code",
   "execution_count": 65,
   "metadata": {},
   "outputs": [],
   "source": [
    "def dist_loop2(training, test):\n",
    "    distance_matrix = np.zeros((len(training), len(test)))\n",
    "    for i in range(len(training)):\n",
    "        train_data = training[i]\n",
    "        for k in range(len(test)):\n",
    "            test_data = test[k]\n",
    "            diff = np.abs(train_data - test_data)\n",
    "            diff_square = np.square(diff)\n",
    "            distance  = np.sqrt(np.sum(diff_square))\n",
    "            distance_matrix[i][k] = distance\n",
    "    return distance_matrix        "
   ]
  },
  {
   "cell_type": "code",
   "execution_count": 67,
   "metadata": {},
   "outputs": [],
   "source": [
    "def dist_loop(training, test):\n",
    "    distance_matrix = np.zeros((len(training), len(test)))\n",
    "    for i in range(len(training)):\n",
    "        train_data = training[i]\n",
    "        for k in range(len(test)):\n",
    "            test_data = test[k]\n",
    "            diff = np.abs(train_data - test_data)\n",
    "            distance  = LA.norm(diff)  #A little bit quicker\n",
    "            distance_matrix[i][k] = distance\n",
    "    return distance_matrix \n",
    "            "
   ]
  },
  {
   "cell_type": "code",
   "execution_count": 68,
   "metadata": {},
   "outputs": [
    {
     "name": "stdout",
     "output_type": "stream",
     "text": [
      "5.06 s ± 188 ms per loop (mean ± std. dev. of 7 runs, 1 loop each)\n"
     ]
    }
   ],
   "source": [
    "%timeit dist_loop(X_train, X_test)\n"
   ]
  },
  {
   "cell_type": "markdown",
   "metadata": {},
   "source": [
    "### 3.3 "
   ]
  },
  {
   "cell_type": "code",
   "execution_count": 69,
   "metadata": {},
   "outputs": [],
   "source": [
    "def dist_vec2(training, test):\n",
    "    distance_matrix = np.zeros((len(training), len(test)))\n",
    "    for i in range(len(training)):\n",
    "        train_data = training[i]\n",
    "        x= np.abs(train_data-test) #Esta bien pero forma diferente\n",
    "        y = np.square(x[:]) #Probablemente tambien bien\n",
    "        z= np.sum(y,axis=1) #correcto\n",
    "        distance_matrix[i][:]  = np.sqrt(z)\n",
    "    return distance_matrix "
   ]
  },
  {
   "cell_type": "code",
   "execution_count": 70,
   "metadata": {},
   "outputs": [],
   "source": [
    "def dist_vec(training, test):\n",
    "    distance = np.sqrt(np.sum(np.square(np.subtract(training[:, np.newaxis], test)), axis=2))\n",
    "    return distance"
   ]
  },
  {
   "cell_type": "code",
   "execution_count": 72,
   "metadata": {},
   "outputs": [
    {
     "name": "stdout",
     "output_type": "stream",
     "text": [
      "346 ms ± 4.93 ms per loop (mean ± std. dev. of 7 runs, 1 loop each)\n"
     ]
    }
   ],
   "source": [
    "%timeit dist_vec(X_train, X_test)"
   ]
  },
  {
   "cell_type": "code",
   "execution_count": 172,
   "metadata": {},
   "outputs": [
    {
     "data": {
      "text/plain": [
       "(1078, 719)"
      ]
     },
     "execution_count": 172,
     "metadata": {},
     "output_type": "execute_result"
    }
   ],
   "source": [
    " dist_vec(X_train, X_test).shape"
   ]
  },
  {
   "cell_type": "markdown",
   "metadata": {},
   "source": [
    "### 3.4"
   ]
  },
  {
   "cell_type": "code",
   "execution_count": 156,
   "metadata": {},
   "outputs": [],
   "source": [
    "X_train2= []\n",
    "X_test2= []\n",
    "y_train2= []\n",
    "y_test2= []\n",
    "for i in range(len(X_train)):\n",
    "    if y_train[i] ==3 or y_train[i] == 9:\n",
    "        X_train2.append(X_train[i])\n",
    "        y_train2.append(y_train[i])\n",
    "for i in range(len(X_test)):\n",
    "    if y_test[i] ==3 or y_test[i] == 9:\n",
    "        X_test2.append(X_test[i])\n",
    "        y_test2.append(y_test[i])\n",
    "X_train2 = np.array(X_train2)\n",
    "X_test2 = np.array(X_test2)\n",
    "y_train2 = np.array(y_train2)\n",
    "y_test2 = np.array(y_test2)"
   ]
  },
  {
   "cell_type": "code",
   "execution_count": 157,
   "metadata": {},
   "outputs": [],
   "source": [
    "def nn_classifier(training,test,number_of_neighbors, y_train):\n",
    "    diff = dist_vec(training,test)\n",
    "    index_knn = np.argpartition(diff, kth=number_of_neighbors, axis=0)\n",
    "    index_knn = index_knn.T\n",
    "    x = index_knn[:, :number_of_neighbors]\n",
    "    k_nearest_neighbors = y_train[x]\n",
    "    mode,count = stats.mode(k_nearest_neighbors, axis = 1)\n",
    "    label = np.reshape(mode, (1,len(mode)))\n",
    "    return label[0,:]"
   ]
  },
  {
   "cell_type": "code",
   "execution_count": 158,
   "metadata": {},
   "outputs": [
    {
     "data": {
      "text/plain": [
       "<ErrorbarContainer object of 3 artists>"
      ]
     },
     "execution_count": 158,
     "metadata": {},
     "output_type": "execute_result"
    },
    {
     "data": {
      "image/png": "[encoded data removed]",
      "text/plain": [
       "<Figure size 432x288 with 1 Axes>"
      ]
     },
     "metadata": {
      "needs_background": "light"
     },
     "output_type": "display_data"
    }
   ],
   "source": [
    "errors = []\n",
    "k_array = (1,3,5,9,17,33)\n",
    "for k in k_array:\n",
    "    label = nn_classifier(X_train2, X_test2,k, y_train2)\n",
    "    n_errors = 0\n",
    "    for i in range(len(X_test2)):\n",
    "        if label[i] != y_test2[i]: n_errors += 1\n",
    "    errors.append(n_errors/len(X_test2))\n",
    "plt.errorbar(k_array, errors, fmt='x')"
   ]
  },
  {
   "cell_type": "code",
   "execution_count": 159,
   "metadata": {},
   "outputs": [
    {
     "data": {
      "text/plain": [
       "<ErrorbarContainer object of 3 artists>"
      ]
     },
     "execution_count": 159,
     "metadata": {},
     "output_type": "execute_result"
    },
    {
     "data": {
      "image/png": "[encoded data removed]",
      "text/plain": [
       "<Figure size 432x288 with 1 Axes>"
      ]
     },
     "metadata": {
      "needs_background": "light"
     },
     "output_type": "display_data"
    }
   ],
   "source": [
    "\n",
    "errors = []\n",
    "k_array = np.arange(1,100,1)\n",
    "for k in k_array:\n",
    "    label = nn_classifier(X_train2, X_test2,k, y_train2)\n",
    "    n_errors = 0\n",
    "    for i in range(len(X_test2)):\n",
    "        if label[i] != y_test2[i]: n_errors += 1\n",
    "    errors.append(n_errors/len(X_test2))\n",
    "plt.errorbar(k_array, errors, fmt='x')\n"
   ]
  }
 ],
 "metadata": {
  "kernelspec": {
   "display_name": "Python 3",
   "language": "python",
   "name": "python3"
  },
  "language_info": {
   "codemirror_mode": {
    "name": "ipython",
    "version": 3
   },
   "file_extension": ".py",
   "mimetype": "text/x-python",
   "name": "python",
   "nbconvert_exporter": "python",
   "pygments_lexer": "ipython3",
   "version": "3.7.4"
  }
 },
 "nbformat": 4,
 "nbformat_minor": 2
}
