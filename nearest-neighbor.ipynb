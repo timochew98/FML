{
 "cells": [
  {
   "cell_type": "code",
   "execution_count": 1,
   "metadata": {},
   "outputs": [],
   "source": [
    "from sklearn.datasets import load_digits\n",
    "import numpy as np\n",
    "import matplotlib.pyplot as plt\n",
    "from numpy import linalg as LA"
   ]
  },
  {
   "cell_type": "code",
   "execution_count": 2,
   "metadata": {},
   "outputs": [],
   "source": [
    "digits = load_digits()"
   ]
  },
  {
   "cell_type": "code",
   "execution_count": 3,
   "metadata": {},
   "outputs": [
    {
     "name": "stdout",
     "output_type": "stream",
     "text": [
      "dict_keys(['data', 'target', 'target_names', 'images', 'DESCR'])\n"
     ]
    }
   ],
   "source": [
    "print(digits.keys())"
   ]
  },
  {
   "cell_type": "code",
   "execution_count": 4,
   "metadata": {},
   "outputs": [],
   "source": [
    "data = digits[\"data\"]\n",
    "images = digits[\"images\"]\n",
    "target = digits[\"target\"]\n",
    "target_names = digits[\"target_names\"]"
   ]
  },
  {
   "cell_type": "code",
   "execution_count": 5,
   "metadata": {},
   "outputs": [
    {
     "data": {
      "text/plain": [
       "(1797, 8, 8)"
      ]
     },
     "execution_count": 5,
     "metadata": {},
     "output_type": "execute_result"
    }
   ],
   "source": [
    "images.shape"
   ]
  },
  {
   "cell_type": "code",
   "execution_count": 6,
   "metadata": {},
   "outputs": [],
   "source": [
    "img = images[13] #3 = i%10"
   ]
  },
  {
   "cell_type": "code",
   "execution_count": 7,
   "metadata": {},
   "outputs": [],
   "source": [
    "def show1(img):\n",
    "    assert 2 == len(img.shape)\n",
    "    plt.figure()\n",
    "    plt.gray()\n",
    "    plt.imshow (img , interpolation = \"nearest\") # also try interpolation =\" bicubic \"\n",
    "    plt.show ()\n"
   ]
  },
  {
   "cell_type": "code",
   "execution_count": 8,
   "metadata": {},
   "outputs": [],
   "source": [
    "def show2(imag):  \n",
    "    assert 2 == len(img.shape)\n",
    "    plt.figure()\n",
    "    plt.gray()\n",
    "    plt.imshow (img , interpolation = \"bicubic\") # also try interpolation =\" bicubic \"\n",
    "    plt.show ()\n",
    "    "
   ]
  },
  {
   "cell_type": "code",
   "execution_count": 9,
   "metadata": {},
   "outputs": [
    {
     "data": {
      "image/png": "[encoded data removed]",
      "text/plain": [
       "<Figure size 432x288 with 1 Axes>"
      ]
     },
     "metadata": {
      "needs_background": "light"
     },
     "output_type": "display_data"
    }
   ],
   "source": [
    "show1(img)"
   ]
  },
  {
   "cell_type": "code",
   "execution_count": 10,
   "metadata": {},
   "outputs": [
    {
     "data": {
      "image/png": "[encoded data removed]",
      "text/plain": [
       "<Figure size 432x288 with 1 Axes>"
      ]
     },
     "metadata": {
      "needs_background": "light"
     },
     "output_type": "display_data"
    }
   ],
   "source": [
    "show2(img)"
   ]
  },
  {
   "cell_type": "code",
   "execution_count": 11,
   "metadata": {},
   "outputs": [],
   "source": [
    "from sklearn import model_selection\n",
    "X_all = data\n",
    "#y_all = target\n",
    "X_train , X_test , y_train , y_test =model_selection . train_test_split ( digits.data , digits.target , test_size = 0.4 , random_state = 0)"
   ]
  },
  {
   "cell_type": "markdown",
   "metadata": {},
   "source": [
    "### 3.2"
   ]
  },
  {
   "cell_type": "code",
   "execution_count": 12,
   "metadata": {},
   "outputs": [],
   "source": [
    "def dist_loop2(training, test):\n",
    "    distance_matrix = np.zeros((len(training), len(test)))\n",
    "    for i in range(len(training)):\n",
    "        train_data = training[i]\n",
    "        for k in range(len(test)):\n",
    "            test_data = test[k]\n",
    "            diff = np.abs(train_data - test_data)\n",
    "            diff_square = np.square(diff)\n",
    "            distance  = np.sqrt(np.sum(diff_square))\n",
    "            distance_matrix[i][k] = distance\n",
    "    return distance_matrix        "
   ]
  },
  {
   "cell_type": "code",
   "execution_count": 13,
   "metadata": {},
   "outputs": [
    {
     "data": {
      "text/plain": [
       "array([[55.67764363, 53.12249994, 56.56854249, ..., 54.91812087,\n",
       "        50.76416059, 46.87216658],\n",
       "       [47.51841748, 45.65084884, 48.72371086, ..., 45.475268  ,\n",
       "        52.10566188, 40.18706259],\n",
       "       [45.54119015, 53.72150407, 45.07771068, ..., 44.96665431,\n",
       "        50.8625599 , 41.53311931],\n",
       "       ...,\n",
       "       [46.        , 45.54119015, 46.28174586, ..., 51.32250968,\n",
       "        44.62062303, 48.61069841],\n",
       "       [44.98888752, 49.07137659, 53.55371136, ..., 57.91372894,\n",
       "        27.80287755, 40.28647416],\n",
       "       [44.77722635, 41.07310556, 40.31128874, ..., 43.78355856,\n",
       "        52.        , 44.22668877]])"
      ]
     },
     "execution_count": 13,
     "metadata": {},
     "output_type": "execute_result"
    }
   ],
   "source": [
    "x = dist_loop2(X_train, X_test)\n",
    "x"
   ]
  },
  {
   "cell_type": "code",
   "execution_count": 14,
   "metadata": {},
   "outputs": [],
   "source": [
    "def dist_loop(training, test):\n",
    "    distance_matrix = np.zeros((len(training), len(test)))\n",
    "    for i in range(len(training)):\n",
    "        train_data = training[i]\n",
    "        for k in range(len(test)):\n",
    "            test_data = test[k]\n",
    "            diff = np.abs(train_data - test_data)\n",
    "            distance  = LA.norm(diff)  #A little bit quicker\n",
    "            distance_matrix[i][k] = distance\n",
    "    return distance_matrix \n",
    "            "
   ]
  },
  {
   "cell_type": "code",
   "execution_count": 15,
   "metadata": {},
   "outputs": [
    {
     "name": "stdout",
     "output_type": "stream",
     "text": [
      "5.39 s ± 217 ms per loop (mean ± std. dev. of 7 runs, 1 loop each)\n"
     ]
    }
   ],
   "source": [
    "%timeit dist_loop(X_train, X_test)\n"
   ]
  },
  {
   "cell_type": "markdown",
   "metadata": {},
   "source": [
    "### 3.3 "
   ]
  },
  {
   "cell_type": "code",
   "execution_count": 17,
   "metadata": {},
   "outputs": [],
   "source": [
    "def dist_vec(training, test):\n",
    "    distance_matrix = np.zeros((len(training), len(test)))\n",
    "    x = np.full_like\n",
    "    distance_matrix= LA.norm(np.abs(xx-yy))\n",
    "    return distance_matrix "
   ]
  },
  {
   "cell_type": "code",
   "execution_count": 18,
   "metadata": {},
   "outputs": [],
   "source": [
    "def dist_vec(training, test):\n",
    "    distance_matrix = np.zeros((len(training), len(test)))\n",
    "    x= np.full(len(training), True, dtype = bool)\n",
    "    y= np.full(len(test), True, dtype = bool)\n",
    "    distance_matrix[x,y] = np.sqrt(np.sum(np.square(np.abs(X_train[x,:]-X_test[y,:]))))\n",
    "    return distance_matrix "
   ]
  },
  {
   "cell_type": "code",
   "execution_count": 32,
   "metadata": {},
   "outputs": [],
   "source": [
    "def dist_vec(training, test):\n",
    "    distance_matrix = np.zeros((len(training), len(test)))\n",
    "    for i in range(len(training)):\n",
    "        train_data = training[i]\n",
    "        x= np.abs(train_data-test) #Esta bien pero forma diferente\n",
    "        y = np.square(x[:]) #Probablemente tambien bien\n",
    "        z= np.sum(y,axis=1) #correcto\n",
    "        distance_matrix[i][:]  = np.sqrt(z)\n",
    "    return distance_matrix \n",
    "y = dist_vec(X_train, X_test)\n"
   ]
  },
  {
   "cell_type": "code",
   "execution_count": 20,
   "metadata": {},
   "outputs": [
    {
     "name": "stdout",
     "output_type": "stream",
     "text": [
      "145 ms ± 6.21 ms per loop (mean ± std. dev. of 7 runs, 10 loops each)\n"
     ]
    }
   ],
   "source": [
    "%timeit dist_vec(X_train, X_test)"
   ]
  },
  {
   "cell_type": "code",
   "execution_count": 22,
   "metadata": {},
   "outputs": [],
   "source": [
    "def dist_vec2(training, test):\n",
    "    distance_matrix = np.zeros((len(training), len(test)))\n",
    "    x= np.abs(training-test) #Esta bien pero forma diferente\n",
    "    y = np.square(x[:]) #Probablemente tambien bien\n",
    "    z= np.sum(y,axis=1) #correcto\n",
    "    distance_matrix[:][:]  = np.sqrt(z)\n",
    "    return distance_matrix "
   ]
  },
  {
   "cell_type": "markdown",
   "metadata": {},
   "source": [
    "### 3.4"
   ]
  },
  {
   "cell_type": "code",
   "execution_count": 23,
   "metadata": {},
   "outputs": [],
   "source": [
    "X_train2= []\n",
    "X_test2= []\n",
    "y_train2= []\n",
    "y_test2= []\n",
    "for i in range(len(X_train)):\n",
    "    if y_train[i] ==3 or y_train[i] == 9:\n",
    "        X_train2.append(X_train[i])\n",
    "        y_train2.append(y_train[i])\n",
    "for i in range(len(X_test)):\n",
    "    if y_test[i] ==3 or y_test[i] == 9:\n",
    "        X_test2.append(X_test[i])\n",
    "        y_test2.append(y_test[i])"
   ]
  },
  {
   "cell_type": "code",
   "execution_count": 24,
   "metadata": {},
   "outputs": [],
   "source": [
    "# Nearest neighbour classifier for arbitrary training set size\n",
    "#D =64\n",
    "def nn_classifier(training,test,number_of_test,number_of_neighbors, y):\n",
    "    diff = dist_loop(training[:number_of_neighbors],test)\n",
    "    idx = np.argmin(diff[:,number_of_test])\n",
    "\n",
    "\n",
    "    label = y[idx]\n",
    "    return label"
   ]
  },
  {
   "cell_type": "code",
   "execution_count": 25,
   "metadata": {},
   "outputs": [],
   "source": [
    "errors = []\n",
    "k_array = np.array([1,3,5,9,17,33])\n",
    "for k in k_array:\n",
    "    n_errors = 0\n",
    "    for i in range(len(X_test2)):\n",
    "        if nn_classifier(X_train2, X_test2, i,k, y_train2) != y_test2[i]: n_errors += 1\n",
    "    errors.append(n_errors/len(X_test2))\n"
   ]
  },
  {
   "cell_type": "code",
   "execution_count": 26,
   "metadata": {},
   "outputs": [
    {
     "data": {
      "text/plain": [
       "[0.5138888888888888,\n",
       " 0.2222222222222222,\n",
       " 0.16666666666666666,\n",
       " 0.13194444444444445,\n",
       " 0.09722222222222222,\n",
       " 0.041666666666666664]"
      ]
     },
     "execution_count": 26,
     "metadata": {},
     "output_type": "execute_result"
    }
   ],
   "source": [
    "errors"
   ]
  },
  {
   "cell_type": "code",
   "execution_count": 27,
   "metadata": {},
   "outputs": [
    {
     "data": {
      "text/plain": [
       "<ErrorbarContainer object of 3 artists>"
      ]
     },
     "execution_count": 27,
     "metadata": {},
     "output_type": "execute_result"
    },
    {
     "data": {
      "image/png": "[encoded data removed]",
      "text/plain": [
       "<Figure size 432x288 with 1 Axes>"
      ]
     },
     "metadata": {
      "needs_background": "light"
     },
     "output_type": "display_data"
    }
   ],
   "source": [
    "plt.errorbar(k_array, errors, fmt='x')"
   ]
  },
  {
   "cell_type": "code",
   "execution_count": 28,
   "metadata": {},
   "outputs": [],
   "source": [
    "errors = []\n",
    "k_array = np.arange(1,30,2)\n",
    "for k in k_array:\n",
    "    n_errors = 0\n",
    "    for i in range(len(X_test2)):\n",
    "        if nn_classifier(X_train2, X_test2, i,k, y_train2) != y_test2[i]: n_errors += 1\n",
    "    errors.append(n_errors/len(X_test2))"
   ]
  },
  {
   "cell_type": "code",
   "execution_count": 29,
   "metadata": {},
   "outputs": [
    {
     "data": {
      "text/plain": [
       "<ErrorbarContainer object of 3 artists>"
      ]
     },
     "execution_count": 29,
     "metadata": {},
     "output_type": "execute_result"
    },
    {
     "data": {
      "image/png": "[encoded data removed]",
      "text/plain": [
       "<Figure size 432x288 with 1 Axes>"
      ]
     },
     "metadata": {
      "needs_background": "light"
     },
     "output_type": "display_data"
    }
   ],
   "source": [
    "plt.errorbar(k_array, errors, fmt='x')"
   ]
  },
  {
   "cell_type": "code",
   "execution_count": 34,
   "metadata": {},
   "outputs": [
    {
     "data": {
      "text/plain": [
       "<ErrorbarContainer object of 3 artists>"
      ]
     },
     "execution_count": 34,
     "metadata": {},
     "output_type": "execute_result"
    },
    {
     "data": {
      "image/png": "[encoded data removed]",
      "text/plain": [
       "<Figure size 432x288 with 1 Axes>"
      ]
     },
     "metadata": {
      "needs_background": "light"
     },
     "output_type": "display_data"
    }
   ],
   "source": [
    "def nn_classifier(training,test,number_of_test,number_of_neighbors, y):\n",
    "    diff = dist_vec(training[:number_of_neighbors],test)\n",
    "    idx = np.argmin(diff[:,number_of_test])\n",
    "\n",
    "\n",
    "    label = y[idx]\n",
    "    return label\n",
    "errors = []\n",
    "k_array = np.arange(1,35,1)\n",
    "for k in k_array:\n",
    "    n_errors = 0\n",
    "    for i in range(len(X_test2)):\n",
    "        if nn_classifier(X_train2, X_test2, i,k, y_train2) != y_test2[i]: n_errors += 1\n",
    "    errors.append(n_errors/len(X_test2))\n",
    "plt.errorbar(k_array, errors, fmt='x')"
   ]
  },
  {
   "cell_type": "code",
   "execution_count": null,
   "metadata": {},
   "outputs": [],
   "source": []
  },
  {
   "cell_type": "code",
   "execution_count": null,
   "metadata": {},
   "outputs": [],
   "source": []
  }
 ],
 "metadata": {
  "kernelspec": {
   "display_name": "Python 3",
   "language": "python",
   "name": "python3"
  },
  "language_info": {
   "codemirror_mode": {
    "name": "ipython",
    "version": 3
   },
   "file_extension": ".py",
   "mimetype": "text/x-python",
   "name": "python",
   "nbconvert_exporter": "python",
   "pygments_lexer": "ipython3",
   "version": "3.7.4"
  }
 },
 "nbformat": 4,
 "nbformat_minor": 2
}
